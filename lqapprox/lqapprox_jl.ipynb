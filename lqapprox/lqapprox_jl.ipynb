{
 "cells": [
  {
   "cell_type": "markdown",
   "metadata": {},
   "source": [
    "# LQ Approximation with `QuantEcon.jl`"
   ]
  },
  {
   "cell_type": "code",
   "execution_count": 1,
   "metadata": {},
   "outputs": [],
   "source": [
    "using QuantEcon\n",
    "using Plots"
   ]
  },
  {
   "cell_type": "markdown",
   "metadata": {},
   "source": [
    "See the [Python version](http://nbviewer.jupyter.org/github/OyamaZemi/MirandaFackler.notebooks/blob/master/lqapprox/lqapprox_py.ipynb) for the formulation."
   ]
  },
  {
   "cell_type": "code",
   "execution_count": 2,
   "metadata": {},
   "outputs": [
    {
     "data": {
      "text/plain": [
       "approx_lq"
      ]
     },
     "execution_count": 2,
     "metadata": {},
     "output_type": "execute_result"
    }
   ],
   "source": [
    "\"\"\"\n",
    "Return an approximating LQ instance.\n",
    "\n",
    "Gradient of f: Df_star = [f_s, f_x]\n",
    "Hessian of f: DDf_star = [f_ss f_sx; f_sx f_xx]\n",
    "Gradient of g: Dg_star = [g_s, g_x]\n",
    "\n",
    "\"\"\"\n",
    "function approx_lq(s_star, x_star, f_star, Df_star, DDf_star, g_star, Dg_star, discount)\n",
    "    n = 2  # Dim of state variable (1, s)\n",
    "    k = 1  # Dim of control variable x\n",
    "    sx_star = [s_star, x_star]\n",
    "    \n",
    "    # (1, s)' R (1, s) + 2 x N (1, s) + x Q x\n",
    "    Q = Array{Float64}(k, k)\n",
    "    R = Array{Float64}(n, n)\n",
    "    N = Array{Float64}(k, n)\n",
    "    R[1, 1] = -(f_star - Df_star' * sx_star + (sx_star' * DDf_star * sx_star) / 2)\n",
    "    R[2, 2], N[1, 2], N[1, 2], Q[1, 1] = -DDf_star / 2\n",
    "    R[2, 1], N[1, 1] = -(Df_star - DDf_star * sx_star) / 2\n",
    "    R[1, 2] = R[2, 1]\n",
    "    \n",
    "    # A (1, s) + B x + C w\n",
    "    A = Array{Float64}(n, n)\n",
    "    B = Array{Float64}(n, k)\n",
    "    C = zeros(n, 1)\n",
    "    A[1, 1], A[1, 2], B[1, 1] = 1, 0, 0\n",
    "    A[2, 1] = g_star - Dg_star' * sx_star\n",
    "    A[2, 2], B[2, 1] = Dg_star\n",
    "    \n",
    "    lq = LQ(Q, R, A, B, C, N, bet=discount)\n",
    "    return lq\n",
    "end"
   ]
  },
  {
   "cell_type": "markdown",
   "metadata": {},
   "source": [
    "## Optimal Economic Growth"
   ]
  },
  {
   "cell_type": "markdown",
   "metadata": {},
   "source": [
    "We consider the following optimal growth model from Miranda and Fackler, Section 9.7.1:\n",
    "\n",
    "* $f(s, x) = \\dfrac{(s - x)^{1-\\alpha}}{1-\\alpha}$,\n",
    "* $g(s, x) = \\gamma + x^{\\beta}$."
   ]
  },
  {
   "cell_type": "code",
   "execution_count": 3,
   "metadata": {},
   "outputs": [],
   "source": [
    "alpha = 0.2\n",
    "bet = 0.5\n",
    "gamm = 0.9\n",
    "discount = 0.9;"
   ]
  },
  {
   "cell_type": "markdown",
   "metadata": {},
   "source": [
    "Function definitions:"
   ]
  },
  {
   "cell_type": "code",
   "execution_count": 4,
   "metadata": {},
   "outputs": [],
   "source": [
    "f(s, x) = (s - x)^(1 - alpha) / (1 - alpha)\n",
    "f_s(s, x) = (s - x)^(-alpha)\n",
    "f_x(s, x) = -f_s(s, x)\n",
    "f_ss(s, x) = -alpha * (s - x)^(-alpha - 1)\n",
    "f_sx(s, x) = -f_ss(s, x)\n",
    "f_xx(s, x) = f_ss(s, x)\n",
    "\n",
    "g(s, x) = gamm * x + x^bet\n",
    "g_s(s, x) = 0\n",
    "g_x(s, x) = gamm + bet * x^(bet - 1);"
   ]
  },
  {
   "cell_type": "markdown",
   "metadata": {},
   "source": [
    "Steady state:"
   ]
  },
  {
   "cell_type": "code",
   "execution_count": 5,
   "metadata": {},
   "outputs": [
    {
     "data": {
      "text/plain": [
       "(7.416897506925212, 5.6094182825484795)"
      ]
     },
     "execution_count": 5,
     "metadata": {},
     "output_type": "execute_result"
    }
   ],
   "source": [
    "x_star = ((discount * bet) / (1 - discount * gamm))^(1 / (1 - bet))\n",
    "s_star = gamm * x_star + x_star^bet\n",
    "s_star, x_star"
   ]
  },
  {
   "cell_type": "markdown",
   "metadata": {},
   "source": [
    "`(s_star, x_star)` satisfies the Euler equations:"
   ]
  },
  {
   "cell_type": "code",
   "execution_count": 6,
   "metadata": {},
   "outputs": [
    {
     "data": {
      "text/html": [
       "1.1102230246251565e-16"
      ],
      "text/plain": [
       "1.1102230246251565e-16"
      ]
     },
     "execution_count": 6,
     "metadata": {},
     "output_type": "execute_result"
    }
   ],
   "source": [
    "f_x(s_star, x_star) + discount * f_s(g(s_star, x_star), x_star) * g_x(s_star, x_star)"
   ]
  },
  {
   "cell_type": "markdown",
   "metadata": {},
   "source": [
    "Construct $f^*$, $\\nabla f^*$, $D^2 f^*$, $g^*$, and $\\nabla g^*$:"
   ]
  },
  {
   "cell_type": "code",
   "execution_count": 7,
   "metadata": {},
   "outputs": [],
   "source": [
    "f_star = f(s_star, x_star)\n",
    "Df_star = [f_s(s_star, x_star), f_x(s_star, x_star)]\n",
    "DDf_star = [f_ss(s_star, x_star) f_sx(s_star, x_star);\n",
    "            f_sx(s_star, x_star) f_xx(s_star, x_star)]\n",
    "g_star = g(s_star, x_star)\n",
    "Dg_star = [g_s(s_star, x_star), g_x(s_star, x_star)];"
   ]
  },
  {
   "cell_type": "markdown",
   "metadata": {},
   "source": [
    "### LQ Approximation"
   ]
  },
  {
   "cell_type": "markdown",
   "metadata": {},
   "source": [
    "Generate an LQ instance that approximates our dynamic optimization problem:"
   ]
  },
  {
   "cell_type": "code",
   "execution_count": 8,
   "metadata": {},
   "outputs": [
    {
     "data": {
      "text/plain": [
       "QuantEcon.LQ([0.0491487], [-0.240852 -0.533012; -0.533012 0.0491487], [1.0 0.0; 1.18421 0.0], [0.0; 1.11111], [0.0; 0.0], [0.533012 -0.0491487], 0.9, nothing, [NaN NaN; NaN NaN], [NaN NaN; NaN NaN], 0.0, [0.0 0.0])"
      ]
     },
     "execution_count": 8,
     "metadata": {},
     "output_type": "execute_result"
    }
   ],
   "source": [
    "lq = approx_lq(s_star, x_star, f_star, Df_star, DDf_star, g_star, Dg_star, discount)"
   ]
  },
  {
   "cell_type": "markdown",
   "metadata": {},
   "source": [
    "### Solution by `stationary_values(::LQ)`"
   ]
  },
  {
   "cell_type": "markdown",
   "metadata": {},
   "source": [
    "Solve the LQ problem:"
   ]
  },
  {
   "cell_type": "code",
   "execution_count": 9,
   "metadata": {},
   "outputs": [
    {
     "data": {
      "text/plain": [
       "([-13.2118 -0.480629; -0.480629 0.00491487], [1.06579 -0.9], 0.0)"
      ]
     },
     "execution_count": 9,
     "metadata": {},
     "output_type": "execute_result"
    }
   ],
   "source": [
    "P, F, d = stationary_values(lq)"
   ]
  },
  {
   "cell_type": "markdown",
   "metadata": {},
   "source": [
    "The optimal value function (of the LQ minimization problem):"
   ]
  },
  {
   "cell_type": "code",
   "execution_count": 10,
   "metadata": {},
   "outputs": [
    {
     "data": {
      "text/plain": [
       "V (generic function with 1 method)"
      ]
     },
     "execution_count": 10,
     "metadata": {},
     "output_type": "execute_result"
    }
   ],
   "source": [
    "V(s) = [1, s]' * P * [1, s] + d"
   ]
  },
  {
   "cell_type": "markdown",
   "metadata": {},
   "source": [
    "The value at $s^*$:"
   ]
  },
  {
   "cell_type": "code",
   "execution_count": 11,
   "metadata": {
    "scrolled": true
   },
   "outputs": [
    {
     "data": {
      "text/html": [
       "-20.070983979777214"
      ],
      "text/plain": [
       "-20.070983979777214"
      ]
     },
     "execution_count": 11,
     "metadata": {},
     "output_type": "execute_result"
    }
   ],
   "source": [
    "V(s_star)"
   ]
  },
  {
   "cell_type": "code",
   "execution_count": 12,
   "metadata": {},
   "outputs": [
    {
     "data": {
      "text/html": [
       "-20.070983979777242"
      ],
      "text/plain": [
       "-20.070983979777242"
      ]
     },
     "execution_count": 12,
     "metadata": {},
     "output_type": "execute_result"
    }
   ],
   "source": [
    "-f_star / (1 - lq.bet)"
   ]
  },
  {
   "cell_type": "markdown",
   "metadata": {},
   "source": [
    "The optimal policy function:"
   ]
  },
  {
   "cell_type": "code",
   "execution_count": 13,
   "metadata": {},
   "outputs": [
    {
     "data": {
      "text/plain": [
       "X (generic function with 1 method)"
      ]
     },
     "execution_count": 13,
     "metadata": {},
     "output_type": "execute_result"
    }
   ],
   "source": [
    "X(s) = - (F * [1, s])[1]"
   ]
  },
  {
   "cell_type": "markdown",
   "metadata": {},
   "source": [
    "The optimal choice at $s^*$:"
   ]
  },
  {
   "cell_type": "code",
   "execution_count": 14,
   "metadata": {},
   "outputs": [
    {
     "data": {
      "text/html": [
       "5.609418282548483"
      ],
      "text/plain": [
       "5.609418282548483"
      ]
     },
     "execution_count": 14,
     "metadata": {},
     "output_type": "execute_result"
    }
   ],
   "source": [
    "X(s_star)"
   ]
  },
  {
   "cell_type": "code",
   "execution_count": 15,
   "metadata": {
    "scrolled": true
   },
   "outputs": [
    {
     "data": {
      "text/html": [
       "5.6094182825484795"
      ],
      "text/plain": [
       "5.6094182825484795"
      ]
     },
     "execution_count": 15,
     "metadata": {},
     "output_type": "execute_result"
    }
   ],
   "source": [
    "x_star"
   ]
  },
  {
   "cell_type": "code",
   "execution_count": 16,
   "metadata": {},
   "outputs": [
    {
     "data": {
      "text/html": [
       "<img src=\"data:image/png;base64,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\" />"
      ]
     },
     "execution_count": 16,
     "metadata": {},
     "output_type": "execute_result"
    }
   ],
   "source": [
    "s_min, s_max = 5, 10\n",
    "ss = linspace(s_min, s_max, 50)\n",
    "title = \"Optimal Investment Policy\"\n",
    "xlabel = \"Wealth\"\n",
    "ylabel = \"Investment (% of Wealth)\"\n",
    "plot(ss, X.(ss)./ss, xlims=(s_min, s_max), ylims=(0.65, 0.9),\n",
    "     title=title, xlabel=xlabel, ylabel=ylabel, label=\"L-Q\")\n",
    "plot!([s_star], [x_star/s_star], m=(7,:star8), label=\"\")"
   ]
  },
  {
   "cell_type": "markdown",
   "metadata": {
    "collapsed": true
   },
   "source": [
    "## Renewable Resource Management"
   ]
  },
  {
   "cell_type": "markdown",
   "metadata": {},
   "source": [
    "Consider the renewable resource management model from Miranda and Fackler, Section 9.7.2:\n",
    "\n",
    "* $f(s, x) = \\dfrac{(s - x)^{1-\\gamma}}{1-\\gamma} - \\kappa (s - x)$,\n",
    "* $g(s, x) = \\alpha x - 0.5 \\beta x^2$."
   ]
  },
  {
   "cell_type": "code",
   "execution_count": 17,
   "metadata": {},
   "outputs": [],
   "source": [
    "alpha = 4.0\n",
    "bet = 1.0\n",
    "gamm = 0.5\n",
    "kappa = 0.2\n",
    "discount = 0.9;"
   ]
  },
  {
   "cell_type": "code",
   "execution_count": 18,
   "metadata": {},
   "outputs": [],
   "source": [
    "f(s, x) = (s - x)^(1 - gamm) / (1 - gamm) - kappa * (s - x)\n",
    "f_s(s, x) = (s - x)^(-gamm) - kappa\n",
    "f_x(s, x) = -f_s(s, x)\n",
    "f_ss(s, x) = -gamm * (s - x)^(-gamm - 1)\n",
    "f_sx(s, x) = -f_ss(s, x)\n",
    "f_xx(s, x) = f_ss(s, x)\n",
    "\n",
    "g(s, x) = alpha * x - 0.5 * bet * x^2\n",
    "g_s(s, x) = 0\n",
    "g_x(s, x) = alpha - bet * x;"
   ]
  },
  {
   "cell_type": "code",
   "execution_count": 19,
   "metadata": {},
   "outputs": [
    {
     "data": {
      "text/plain": [
       "(7.382716049382716, 2.888888888888889)"
      ]
     },
     "execution_count": 19,
     "metadata": {},
     "output_type": "execute_result"
    }
   ],
   "source": [
    "x_star = (discount * alpha - 1) / (discount * bet)\n",
    "s_star = (alpha^2 - 1/discount^2) / (2 * bet)\n",
    "s_star, x_star"
   ]
  },
  {
   "cell_type": "code",
   "execution_count": 20,
   "metadata": {},
   "outputs": [
    {
     "data": {
      "text/html": [
       "5.551115123125783e-17"
      ],
      "text/plain": [
       "5.551115123125783e-17"
      ]
     },
     "execution_count": 20,
     "metadata": {},
     "output_type": "execute_result"
    }
   ],
   "source": [
    "f_x(s_star, x_star) + discount * f_s(g(s_star, x_star), x_star) * g_x(s_star, x_star)"
   ]
  },
  {
   "cell_type": "code",
   "execution_count": 21,
   "metadata": {},
   "outputs": [],
   "source": [
    "f_star = f(s_star, x_star)\n",
    "Df_star = [f_s(s_star, x_star), f_x(s_star, x_star)]\n",
    "DDf_star = [f_ss(s_star, x_star) f_sx(s_star, x_star);\n",
    "            f_sx(s_star, x_star) f_xx(s_star, x_star)]\n",
    "g_star = g(s_star, x_star)\n",
    "Dg_star = [g_s(s_star, x_star), g_x(s_star, x_star)];"
   ]
  },
  {
   "cell_type": "code",
   "execution_count": 22,
   "metadata": {},
   "outputs": [
    {
     "data": {
      "text/plain": [
       "QuantEcon.LQ([0.0262431], [-1.5899 -0.253796; -0.253796 0.0262431], [1.0 0.0; 4.17284 0.0], [0.0; 1.11111], [0.0; 0.0], [0.253796 -0.0262431], 0.9, nothing, [NaN NaN; NaN NaN], [NaN NaN; NaN NaN], 0.0, [0.0 0.0])"
      ]
     },
     "execution_count": 22,
     "metadata": {},
     "output_type": "execute_result"
    }
   ],
   "source": [
    "lq = approx_lq(s_star, x_star, f_star, Df_star, DDf_star, g_star, Dg_star, discount)"
   ]
  },
  {
   "cell_type": "code",
   "execution_count": 23,
   "metadata": {},
   "outputs": [
    {
     "data": {
      "text/plain": [
       "([-31.2605 -0.155239; -0.155239 0.00262431], [3.75556 -0.9], 0.0)"
      ]
     },
     "execution_count": 23,
     "metadata": {},
     "output_type": "execute_result"
    }
   ],
   "source": [
    "P, F, d = stationary_values(lq)"
   ]
  },
  {
   "cell_type": "code",
   "execution_count": 24,
   "metadata": {},
   "outputs": [
    {
     "data": {
      "text/plain": [
       "V (generic function with 1 method)"
      ]
     },
     "execution_count": 24,
     "metadata": {},
     "output_type": "execute_result"
    }
   ],
   "source": [
    "V(s) = [1, s]' * P * [1, s] + d"
   ]
  },
  {
   "cell_type": "code",
   "execution_count": 25,
   "metadata": {},
   "outputs": [
    {
     "data": {
      "text/html": [
       "-33.40964351976545"
      ],
      "text/plain": [
       "-33.40964351976545"
      ]
     },
     "execution_count": 25,
     "metadata": {},
     "output_type": "execute_result"
    }
   ],
   "source": [
    "V(s_star)"
   ]
  },
  {
   "cell_type": "code",
   "execution_count": 26,
   "metadata": {},
   "outputs": [
    {
     "data": {
      "text/html": [
       "-33.409643519765496"
      ],
      "text/plain": [
       "-33.409643519765496"
      ]
     },
     "execution_count": 26,
     "metadata": {},
     "output_type": "execute_result"
    }
   ],
   "source": [
    "-f_star / (1 - lq.bet)"
   ]
  },
  {
   "cell_type": "code",
   "execution_count": 27,
   "metadata": {},
   "outputs": [
    {
     "data": {
      "text/plain": [
       "X (generic function with 1 method)"
      ]
     },
     "execution_count": 27,
     "metadata": {},
     "output_type": "execute_result"
    }
   ],
   "source": [
    "X(s) = - (F * [1, s])[1]"
   ]
  },
  {
   "cell_type": "code",
   "execution_count": 28,
   "metadata": {},
   "outputs": [
    {
     "data": {
      "text/html": [
       "2.888888888888884"
      ],
      "text/plain": [
       "2.888888888888884"
      ]
     },
     "execution_count": 28,
     "metadata": {},
     "output_type": "execute_result"
    }
   ],
   "source": [
    "X(s_star)"
   ]
  },
  {
   "cell_type": "code",
   "execution_count": 29,
   "metadata": {},
   "outputs": [
    {
     "data": {
      "text/html": [
       "2.888888888888889"
      ],
      "text/plain": [
       "2.888888888888889"
      ]
     },
     "execution_count": 29,
     "metadata": {},
     "output_type": "execute_result"
    }
   ],
   "source": [
    "x_star"
   ]
  },
  {
   "cell_type": "code",
   "execution_count": 30,
   "metadata": {},
   "outputs": [
    {
     "data": {
      "text/html": [
       "<img src=\"data:image/png;base64,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\" />"
      ]
     },
     "execution_count": 30,
     "metadata": {},
     "output_type": "execute_result"
    }
   ],
   "source": [
    "s_min, s_max = 6, 9\n",
    "ss = linspace(s_min, s_max, 50)\n",
    "harvest = ss - X.(ss)\n",
    "h_star = s_star - x_star\n",
    "title = \"Optimal Harvest Policy\"\n",
    "xlabel = \"Available Stock\"\n",
    "ylabel = \"Harvest (% of Stock)\"\n",
    "plot(ss, harvest./ss, xlims=(s_min, s_max), ylims=(0.5, 0.75),\n",
    "     title=title, xlabel=xlabel, ylabel=ylabel, label=\"L-Q\")\n",
    "plot!([s_star], [h_star/s_star], m=(7,:star8), label=\"\")"
   ]
  },
  {
   "cell_type": "code",
   "execution_count": 31,
   "metadata": {},
   "outputs": [
    {
     "data": {
      "text/html": [
       "<img src=\"data:image/png;base64,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\" />"
      ]
     },
     "execution_count": 31,
     "metadata": {},
     "output_type": "execute_result"
    }
   ],
   "source": [
    "shadow_price(s) = -2 * (P * [1, s])[2]\n",
    "title = \"Shadow Price Function\"\n",
    "ylabel = \"Price\"\n",
    "plot(ss, shadow_price.(ss), xlims=(s_min, s_max), ylims=(0.2, 0.4),\n",
    "     title=title, xlabel=xlabel, ylabel=ylabel, label=\"L-Q\")\n",
    "plot!([s_star], [shadow_price(s_star)], m=(7,:star8), label=\"\")"
   ]
  },
  {
   "cell_type": "code",
   "execution_count": null,
   "metadata": {},
   "outputs": [],
   "source": []
  }
 ],
 "metadata": {
  "kernelspec": {
   "display_name": "Julia 0.6.0",
   "language": "julia",
   "name": "julia-0.6"
  },
  "language_info": {
   "file_extension": ".jl",
   "mimetype": "application/julia",
   "name": "julia",
   "version": "0.6.0"
  }
 },
 "nbformat": 4,
 "nbformat_minor": 2
}
