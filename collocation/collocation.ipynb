{
 "cells": [
  {
   "cell_type": "markdown",
   "metadata": {},
   "source": [
    "# Bellman Equation Collocation Method"
   ]
  },
  {
   "cell_type": "code",
   "execution_count": 1,
   "metadata": {
    "scrolled": true
   },
   "outputs": [],
   "source": [
    "using BasisMatrices\n",
    "using QuantEcon\n",
    "using Optim\n",
    "using Plots"
   ]
  },
  {
   "cell_type": "markdown",
   "metadata": {},
   "source": [
    "For discrete time dynamic programs\n",
    "with 1-dimenstional continuous states and actions:"
   ]
  },
  {
   "cell_type": "code",
   "execution_count": 2,
   "metadata": {},
   "outputs": [],
   "source": [
    "struct DPModel{N}\n",
    "    f::Function\n",
    "    g::Function\n",
    "    discount::Float64\n",
    "    shocks::Vector{Float64}\n",
    "    weights::Vector{Float64}\n",
    "    n::Int  # Size of state grid\n",
    "    basis::Basis{N}\n",
    "    S::Vector{Float64}\n",
    "    Phi_lu::LinAlg.LU{Float64,Matrix{Float64}}\n",
    "    lb::Function\n",
    "    ub::Function\n",
    "end"
   ]
  },
  {
   "cell_type": "code",
   "execution_count": 3,
   "metadata": {},
   "outputs": [
    {
     "data": {
      "text/plain": [
       "DPModel"
      ]
     },
     "execution_count": 3,
     "metadata": {},
     "output_type": "execute_result"
    }
   ],
   "source": [
    "function DPModel{N}(f::Function, g::Function, discount::Float64, \n",
    "                    shocks::Vector{Float64}, weights::Vector{Float64},\n",
    "                    basis::Basis{N},\n",
    "                    lb::Function, ub::Function)\n",
    "    S, _ = nodes(basis)\n",
    "    n = length(basis)\n",
    "    Phi = BasisMatrix(basis, Expanded(), S).vals[1]\n",
    "    Phi_lu = lufact(Phi)\n",
    "    dp = DPModel{N}(f, g, discount, shocks, weights, n, basis, S, Phi_lu, lb, ub)\n",
    "    return dp\n",
    "end"
   ]
  },
  {
   "cell_type": "code",
   "execution_count": 4,
   "metadata": {},
   "outputs": [
    {
     "data": {
      "text/plain": [
       "vmax (generic function with 1 method)"
      ]
     },
     "execution_count": 4,
     "metadata": {},
     "output_type": "execute_result"
    }
   ],
   "source": [
    "function vmax(dp::DPModel, s::Float64, C::Vector{Float64})\n",
    "    objective(x) = -dp.f(s, x) -\n",
    "        dp.discount * dot(dp.weights, funeval(C, dp.basis, dp.g.(s, x, dp.shocks)))\n",
    "    res = optimize(objective, lb(s), ub(s))\n",
    "    v = -res.minimum::Float64\n",
    "    x = res.minimizer::Float64\n",
    "    return v, x\n",
    "end"
   ]
  },
  {
   "cell_type": "code",
   "execution_count": 5,
   "metadata": {},
   "outputs": [
    {
     "data": {
      "text/plain": [
       "vmax (generic function with 2 methods)"
      ]
     },
     "execution_count": 5,
     "metadata": {},
     "output_type": "execute_result"
    }
   ],
   "source": [
    "function vmax!(dp::DPModel, ss::AbstractVector{Float64}, C::Vector{Float64},\n",
    "               Tv::Vector{Float64})\n",
    "    for (i, s) in enumerate(ss)\n",
    "        Tv[i], _ = vmax(dp, s, C)\n",
    "    end\n",
    "    return Tv\n",
    "end\n",
    "\n",
    "function vmax!(dp::DPModel, ss::AbstractVector{Float64}, C::Vector{Float64},\n",
    "               Tv::Vector{Float64}, X::Vector{Float64})\n",
    "    for (i, s) in enumerate(ss)\n",
    "        Tv[i], X[i] = vmax(dp, s, C)\n",
    "    end\n",
    "    return Tv, X\n",
    "end\n",
    "\n",
    "function vmax(dp::DPModel, ss::AbstractVector{Float64}, C::Vector{Float64})\n",
    "    Tv, X = similar(ss),similar(ss)\n",
    "    vmax!(dp, ss, C, Tv, X)\n",
    "end"
   ]
  },
  {
   "cell_type": "code",
   "execution_count": 6,
   "metadata": {
    "scrolled": true
   },
   "outputs": [
    {
     "data": {
      "text/plain": [
       "bellman_operator! (generic function with 1 method)"
      ]
     },
     "execution_count": 6,
     "metadata": {},
     "output_type": "execute_result"
    }
   ],
   "source": [
    "function bellman_operator!(dp::DPModel, C::Vector{Float64},\n",
    "                           Tv::Vector{Float64})\n",
    "    Tv = vmax!(dp, dp.S, C, Tv)\n",
    "    A_ldiv_B!(C, dp.Phi_lu, Tv)\n",
    "    return C\n",
    "end"
   ]
  },
  {
   "cell_type": "code",
   "execution_count": 7,
   "metadata": {},
   "outputs": [
    {
     "data": {
      "text/plain": [
       "operator_iteration! (generic function with 1 method)"
      ]
     },
     "execution_count": 7,
     "metadata": {},
     "output_type": "execute_result"
    }
   ],
   "source": [
    "function operator_iteration!{TC}(T::Function, C::TC;\n",
    "                                 tol::Float64=1e-4, max_iter::Int=100,\n",
    "                                 verbose::Int=2, print_skip::Int=50)\n",
    "    i = 0\n",
    "    err = tol + 1\n",
    "    C_old = similar(C)\n",
    "    while i < max_iter && err > tol\n",
    "        copy!(C_old, C)\n",
    "        C = T(C)::TC\n",
    "        err = maximum(abs, C - C_old)\n",
    "        i += 1\n",
    "        \n",
    "        (i >= max_iter || err <= tol) && break\n",
    "        \n",
    "        if (verbose == 2) && (i % print_skip == 0)\n",
    "            println(\"Compute iterate $i with error $err\")\n",
    "        end\n",
    "    end\n",
    "    \n",
    "    if verbose == 2\n",
    "        println(\"Compute iterate $i with error $err\")\n",
    "    end\n",
    "    \n",
    "    if verbose >= 1\n",
    "        if err > tol\n",
    "            warn(\"max_iter attained\")\n",
    "        elseif verbose == 2\n",
    "            println(\"Converged in $i steps\")\n",
    "        end\n",
    "    end\n",
    "    \n",
    "    return C\n",
    "end"
   ]
  },
  {
   "cell_type": "markdown",
   "metadata": {},
   "source": [
    "## Optimal Economic Growth"
   ]
  },
  {
   "cell_type": "code",
   "execution_count": 8,
   "metadata": {},
   "outputs": [],
   "source": [
    "n = 10\n",
    "s_min, s_max = 5, 10;"
   ]
  },
  {
   "cell_type": "code",
   "execution_count": 9,
   "metadata": {},
   "outputs": [
    {
     "data": {
      "text/plain": [
       "1 dimensional Basis on the hypercube formed by (5.0,) × (10.0,).\n",
       "Basis families are Cheb\n"
      ]
     },
     "execution_count": 9,
     "metadata": {},
     "output_type": "execute_result"
    }
   ],
   "source": [
    "basis = Basis(ChebParams(n, s_min, s_max))"
   ]
  },
  {
   "cell_type": "code",
   "execution_count": 10,
   "metadata": {},
   "outputs": [],
   "source": [
    "alpha = 0.2\n",
    "bet = 0.5\n",
    "gamm = 0.9\n",
    "sigma = 0.1\n",
    "discount = 0.9;"
   ]
  },
  {
   "cell_type": "code",
   "execution_count": 11,
   "metadata": {},
   "outputs": [
    {
     "data": {
      "text/plain": [
       "(7.416897506925212, 5.6094182825484795)"
      ]
     },
     "execution_count": 11,
     "metadata": {},
     "output_type": "execute_result"
    }
   ],
   "source": [
    "x_star = ((discount * bet) / (1 - discount * gamm))^(1 / (1 - bet))\n",
    "s_star = gamm * x_star + x_star^bet\n",
    "s_star, x_star"
   ]
  },
  {
   "cell_type": "code",
   "execution_count": 12,
   "metadata": {},
   "outputs": [],
   "source": [
    "f(s, x) = (s - x)^(1 - alpha) / (1 - alpha)\n",
    "g(s, x, e) = gamm * x + e * x^bet;"
   ]
  },
  {
   "cell_type": "code",
   "execution_count": 13,
   "metadata": {},
   "outputs": [
    {
     "data": {
      "text/plain": [
       "([0.840965, 1.0, 1.18911], [0.166667, 0.666667, 0.166667])"
      ]
     },
     "execution_count": 13,
     "metadata": {},
     "output_type": "execute_result"
    }
   ],
   "source": [
    "n_shocks = 3\n",
    "shocks, weights = qnwlogn(n_shocks, 0, sigma^2)"
   ]
  },
  {
   "cell_type": "code",
   "execution_count": 14,
   "metadata": {},
   "outputs": [],
   "source": [
    "lb(s) = 0\n",
    "ub(s) = s;"
   ]
  },
  {
   "cell_type": "code",
   "execution_count": 15,
   "metadata": {
    "scrolled": true
   },
   "outputs": [
    {
     "data": {
      "text/plain": [
       "DPModel{1}(f, g, 0.9, [0.840965, 1.0, 1.18911], [0.166667, 0.666667, 0.166667], 10, 1 dimensional Basis on the hypercube formed by (5.0,) × (10.0,).\n",
       "Basis families are Cheb\n",
       ", [5.03078, 5.27248, 5.73223, 6.36502, 7.10891, 7.89109, 8.63498, 9.26777, 9.72752, 9.96922], Base.LinAlg.LU{Float64,Array{Float64,2}} with factors L and U:\n",
       "[1.0 0.0 … 0.0 0.0; 1.0 1.0 … 0.0 0.0; … ; 1.0 0.0489435 … 1.0 0.0; 1.0 0.579192 … -0.45965 1.0]\n",
       "[1.0 -0.987688 … 0.309017 -0.156434; 0.0 1.97538 … -1.4877e-14 0.312869; … ; 0.0 0.0 … -5.25731 1.64485; 0.0 0.0 … 0.0 5.06233], lb, ub)"
      ]
     },
     "execution_count": 15,
     "metadata": {},
     "output_type": "execute_result"
    }
   ],
   "source": [
    "dp = DPModel(f, g, discount, shocks, weights, basis, lb, ub)"
   ]
  },
  {
   "cell_type": "code",
   "execution_count": 16,
   "metadata": {},
   "outputs": [
    {
     "name": "stdout",
     "output_type": "stream",
     "text": [
      "Compute iterate 50 with error 0.008638196659472186\n",
      "Compute iterate 100 with error 4.4519323829206314e-5\n",
      "Compute iterate 150 with error 2.2944259114865417e-7\n",
      "Compute iterate 200 with error 1.182499431706674e-9\n",
      "Compute iterate 202 with error 9.578258186593303e-10\n",
      "Converged in 202 steps\n"
     ]
    }
   ],
   "source": [
    "tol = 1e-9\n",
    "max_iter = 250\n",
    "Tv = Array{Float64}(dp.n)  # Temporary array\n",
    "bellman_operator!(C) = bellman_operator!(dp, C, Tv)\n",
    "C = zeros(n)\n",
    "C = operator_iteration!(bellman_operator!, C; tol=tol, max_iter=max_iter);"
   ]
  },
  {
   "cell_type": "code",
   "execution_count": 17,
   "metadata": {},
   "outputs": [],
   "source": [
    "s_min, s_max = 5, 10\n",
    "grid_size = 100\n",
    "ss = linspace(s_min, s_max, grid_size)\n",
    "V, X = vmax(dp, ss, C)\n",
    "resid = V - funeval(C, dp.basis, ss);"
   ]
  },
  {
   "cell_type": "code",
   "execution_count": 18,
   "metadata": {},
   "outputs": [
    {
     "data": {
      "text/html": [
       "<img src=\"data:image/png;base64,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\" />"
      ]
     },
     "execution_count": 18,
     "metadata": {},
     "output_type": "execute_result"
    }
   ],
   "source": [
    "title = \"Optimal Investment Policy\"\n",
    "xlabel = \"Wealth\"\n",
    "ylabel = \"Investment (% of Wealth)\"\n",
    "plot(ss, X./ss, xlims=(s_min, s_max), ylims=(0.65, 0.9),\n",
    "     title=title, xlabel=xlabel, ylabel=ylabel, label=\"Chebychev\")\n",
    "plot!([s_star], [x_star/s_star], m=(7,:star8), label=\"\")"
   ]
  },
  {
   "cell_type": "code",
   "execution_count": 19,
   "metadata": {
    "scrolled": false
   },
   "outputs": [
    {
     "data": {
      "text/html": [
       "<img src=\"data:image/png;base64,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\" />"
      ]
     },
     "execution_count": 19,
     "metadata": {},
     "output_type": "execute_result"
    }
   ],
   "source": [
    "title = \"Approximation Residual\"\n",
    "ylabel = \"Residual\"\n",
    "plot(ss, resid, xlims=(s_min, s_max), yformatter=:scientific,\n",
    "     title=title, xlabel=xlabel, ylabel=ylabel, label=\"\")"
   ]
  },
  {
   "cell_type": "code",
   "execution_count": null,
   "metadata": {},
   "outputs": [],
   "source": []
  }
 ],
 "metadata": {
  "kernelspec": {
   "display_name": "Julia 0.6.0",
   "language": "julia",
   "name": "julia-0.6"
  },
  "language_info": {
   "file_extension": ".jl",
   "mimetype": "application/julia",
   "name": "julia",
   "version": "0.6.0"
  }
 },
 "nbformat": 4,
 "nbformat_minor": 2
}
