{
 "cells": [
  {
   "cell_type": "markdown",
   "metadata": {},
   "source": [
    "# LQ Approximation with `QuantEcon.py`"
   ]
  },
  {
   "cell_type": "code",
   "execution_count": 1,
   "metadata": {},
   "outputs": [],
   "source": [
    "import numpy as np\n",
    "import scipy.linalg\n",
    "import matplotlib.pyplot as plt\n",
    "import quantecon as qe"
   ]
  },
  {
   "cell_type": "markdown",
   "metadata": {},
   "source": [
    "We consider a dynamic maximization problem with\n",
    "\n",
    "* reward function $f(s, x)$,\n",
    "* state transition function $g(s, x)$, and\n",
    "* discount rate $\\delta$,\n",
    "\n",
    "where $s$ and $x$ are the state and the control variables, respectively\n",
    "(we follow Miranda-Fackler in notation).\n",
    "\n",
    "Let $(s^*, x^*)$ denote the steady state state-control pair,\n",
    "and write\n",
    "$f^* = f(s^*, x^*)$, $f_i^* = f_i(s^*, x^*)$, $f_{ij}^* = f_{ij}(s^*, x^*)$,\n",
    "$g^* = g(s^*, x^*)$, and $g_i^* = g_i(s^*, x^*)$ for $i, j = s, x$."
   ]
  },
  {
   "cell_type": "markdown",
   "metadata": {},
   "source": [
    "First-order expansion of $g$ around $(s^*, x^*)$:\n",
    "$$\n",
    "\\begin{align*}\n",
    "g(s, x)\n",
    "&\\approx g^* + g_s^* (s - s^*) + g_x^* (x - x^*) \\\\\n",
    "&= A \\begin{pmatrix}1 \\\\ s\\end{pmatrix} + B x,\n",
    "\\end{align*}\n",
    "$$\n",
    "where\n",
    "\n",
    "* $A =\n",
    "  \\begin{pmatrix}\n",
    "  1 & 0 \\\\\n",
    "  g^* - \\nabla g^{*\\mathrm{T}} z^* & g_s^*\n",
    "  \\end{pmatrix}$,\n",
    "\n",
    "* $B =\n",
    "  \\begin{pmatrix}\n",
    "  0 \\\\ g_x^*\n",
    "  \\end{pmatrix}$\n",
    "\n",
    "with $z^* = (s^*, x^*)^{\\mathrm{T}}$ and $\\nabla g^* = (g_s^*, g_x^*)^{\\mathrm{T}}$."
   ]
  },
  {
   "cell_type": "markdown",
   "metadata": {},
   "source": [
    "Second-order expansion of $f$ around $(s^*, x^*)$:\n",
    "$$\n",
    "\\begin{align*}\n",
    "f(s, x)\n",
    "&\\approx f^* + f_s^* (s - s^*) + f_x^* (x - x^*) +\n",
    "         \\frac{1}{2} f_{ss}^* (s - s^*)^2 + f_{sx}^* (s - s^*) (x - x^*) +\n",
    "         \\frac{1}{2} f_{xx}^* (x - x^*)^2 \\\\\n",
    "&= \\begin{pmatrix}\n",
    "   1 & s & x\n",
    "   \\end{pmatrix}\n",
    "   \\begin{pmatrix}\n",
    "   f^* - \\nabla f^{*\\mathrm{T}} z^* + \\frac{1}{2} z^{*\\mathrm{T}} D^2 f^* z^* &\n",
    "   \\frac{1}{2} (\\nabla f^* - D^2 f^* z^*)^{\\mathrm{T}} \\\\\n",
    "   \\frac{1}{2} (\\nabla f^* - D^2 f^* z^*) & \\frac{1}{2} D^2 f^*\n",
    "   \\end{pmatrix}\n",
    "   \\begin{pmatrix}\n",
    "   1 \\\\ s \\\\ x\n",
    "   \\end{pmatrix},\n",
    "\\end{align*}\n",
    "$$\n",
    "where\n",
    "$\\nabla f^* = (f_s^*, f_x^*)^{\\mathrm{T}}$ and\n",
    "$$\n",
    "D^2 f^* =\n",
    "\\begin{pmatrix}\n",
    "f_{ss}^* & f_{sx}^* \\\\\n",
    "f_{sx}^* & f_{xx}^*\n",
    "\\end{pmatrix}.\n",
    "$$"
   ]
  },
  {
   "cell_type": "markdown",
   "metadata": {},
   "source": [
    "Let\n",
    "$$\n",
    "\\begin{align*}\n",
    "r(s, x)\n",
    "&= -\n",
    "   \\begin{pmatrix}\n",
    "   1 & s & x\n",
    "   \\end{pmatrix}\n",
    "   \\begin{pmatrix}\n",
    "   f^* - \\nabla f^{*\\mathrm{T}} z^* + \\frac{1}{2} z^{*\\mathrm{T}} D^2 f^* z^* &\n",
    "   \\frac{1}{2} (\\nabla f^* - D^2 f^* z^*)^{\\mathrm{T}} \\\\\n",
    "   \\frac{1}{2} (\\nabla f^* - D^2 f^* z^*) & \\frac{1}{2} D^2 f^*\n",
    "   \\end{pmatrix}\n",
    "   \\begin{pmatrix}\n",
    "   1 \\\\ s \\\\ x\n",
    "   \\end{pmatrix} \\\\\n",
    "&= \\begin{pmatrix}\n",
    "   1 & s\n",
    "   \\end{pmatrix}\n",
    "   R\n",
    "   \\begin{pmatrix}\n",
    "   1 \\\\ s\n",
    "   \\end{pmatrix} +\n",
    "   2 x N\n",
    "   \\begin{pmatrix}\n",
    "   1 \\\\ s\n",
    "   \\end{pmatrix} +\n",
    "   Q x,\n",
    "\\end{align*}\n",
    "$$\n",
    "where\n",
    "\n",
    "* $R = -\n",
    "  \\begin{pmatrix}\n",
    "  f^* - \\nabla f^{*\\mathrm{T}} z^* + \\frac{1}{2} z^{*\\mathrm{T}} D^2 f^* z^* &\n",
    "  \\frac{1}{2} [f_s^* - (f_{ss}^* s^* + f_{sx}^* x^*)] \\\\\n",
    "  \\frac{1}{2} [f_s^* - (f_{ss}^* s^* + f_{sx}^* x^*)] & \\frac{1}{2} f_{ss}^*\n",
    "  \\end{pmatrix}$,\n",
    "\n",
    "* $N = -\n",
    "  \\begin{pmatrix}\n",
    "  \\frac{1}{2} [f_x^* - (f_{sx}^* s^* + f_{xx}^* x^*)] & \\frac{1}{2} f_{sx}^*\n",
    "  \\end{pmatrix}$.\n",
    "\n",
    "* $Q = -\\frac{1}{2} f_{xx}^*$."
   ]
  },
  {
   "cell_type": "markdown",
   "metadata": {},
   "source": [
    "Remarks:\n",
    "\n",
    "* We are going to *minimize* the objective function."
   ]
  },
  {
   "cell_type": "code",
   "execution_count": 2,
   "metadata": {},
   "outputs": [],
   "source": [
    "def approx_lq(s_star, x_star, f_star, Df_star, DDf_star, g_star, Dg_star, discount):\n",
    "    \"\"\"\n",
    "    Return an approximating LQ instance.\n",
    "    \n",
    "    Gradient of f: Df_star = np.array([f_s, f_x])\n",
    "    Hessian of f: DDf_star = np.array([[f_ss, f_sx], [f_sx, f_xx]])\n",
    "    Gradient of g: Dg_star = np.array([g_s, g_x])\n",
    "    \n",
    "    \"\"\"\n",
    "    n = 2\n",
    "    k = 1\n",
    "    sx_star = np.array([s_star, x_star])\n",
    "    \n",
    "    # (1, s)' R (1, s) + 2 x N (1, s) + x Q x\n",
    "    Q = np.empty((k, k))\n",
    "    R = np.empty((n, n))\n",
    "    N = np.empty((k, n))\n",
    "    R[0, 0] = -(f_star - Df_star @ sx_star + (sx_star @ DDf_star @ sx_star) / 2)\n",
    "    R[1, 1], N[0, 1], N[0, 1], Q[0, 0] = -DDf_star.ravel() / 2\n",
    "    R[1, 0], N[0, 0] = -(Df_star - DDf_star @ sx_star).ravel() / 2\n",
    "    R[0, 1] = R[1, 0]\n",
    "    \n",
    "    # A (1, s) + B x + C w\n",
    "    A = np.empty((n, n))\n",
    "    B = np.empty((n, k))\n",
    "    C = np.zeros((n, 1))\n",
    "    A[0, 0], A[0, 1], B[0, 0] = 1, 0, 0\n",
    "    A[1, 0] = g_star - Dg_star @ sx_star\n",
    "    A[1, 1], B[1, 0] = Dg_star.ravel()\n",
    "    \n",
    "    lq = qe.LQ(Q, R, A, B, C, N, beta=discount)\n",
    "    return lq"
   ]
  },
  {
   "cell_type": "code",
   "execution_count": 3,
   "metadata": {},
   "outputs": [],
   "source": [
    "def evaluate_path(lq, s_path, x_path):\n",
    "    ts_length = x_path.shape[1]\n",
    "    v = 0.\n",
    "    d = 1.\n",
    "    for t in range(ts_length):\n",
    "        r = s_path[:, t] @ (lq.R @ s_path[:, t]) + \\\n",
    "            2 * (x_path[0, t] * (lq.N @ s_path[:, t])) + x_path[0, t] * lq.Q * x_path[0, t]\n",
    "        v += (r * d)[0, 0]\n",
    "        d *= lq.beta\n",
    "    return v"
   ]
  },
  {
   "cell_type": "markdown",
   "metadata": {},
   "source": [
    "## Deterministic Optimal Growth Model"
   ]
  },
  {
   "cell_type": "markdown",
   "metadata": {},
   "source": [
    "We consider the following simple optimal growth model:\n",
    "\n",
    "* $f(s, x) = \\log (s - x)$,\n",
    "* $g(s, x) = x^{\\alpha}$."
   ]
  },
  {
   "cell_type": "code",
   "execution_count": 4,
   "metadata": {},
   "outputs": [],
   "source": [
    "alpha = 0.5\n",
    "discount = 0.9"
   ]
  },
  {
   "cell_type": "code",
   "execution_count": 5,
   "metadata": {},
   "outputs": [],
   "source": [
    "f = lambda s, x: s + x"
   ]
  },
  {
   "cell_type": "code",
   "execution_count": 6,
   "metadata": {},
   "outputs": [
    {
     "data": {
      "text/plain": [
       "-2"
      ]
     },
     "execution_count": 6,
     "metadata": {},
     "output_type": "execute_result"
    }
   ],
   "source": [
    "-f(1, 1)"
   ]
  },
  {
   "cell_type": "markdown",
   "metadata": {},
   "source": [
    "Function definitions:"
   ]
  },
  {
   "cell_type": "code",
   "execution_count": 7,
   "metadata": {},
   "outputs": [],
   "source": [
    "f = lambda s, x: np.log(s - x)\n",
    "f_s = lambda s, x: (s - x)**(-1)\n",
    "f_x = lambda s, x: -f_s(s, x)\n",
    "f_ss = lambda s, x: -(s - x)**(-2)\n",
    "f_sx = lambda s, x: -f_ss(s, x)\n",
    "f_xx = lambda s, x: f_ss(s, x)\n",
    "\n",
    "g = lambda s, x: x**alpha\n",
    "g_s = lambda s, x: 0\n",
    "g_x = lambda s, x: alpha * x**(alpha - 1)"
   ]
  },
  {
   "cell_type": "markdown",
   "metadata": {},
   "source": [
    "Steady state:"
   ]
  },
  {
   "cell_type": "code",
   "execution_count": 8,
   "metadata": {},
   "outputs": [
    {
     "data": {
      "text/plain": [
       "(0.45, 0.2025)"
      ]
     },
     "execution_count": 8,
     "metadata": {},
     "output_type": "execute_result"
    }
   ],
   "source": [
    "x_star = (discount * alpha)**(1 / (1 - alpha))\n",
    "s_star = x_star**alpha\n",
    "s_star, x_star"
   ]
  },
  {
   "cell_type": "markdown",
   "metadata": {},
   "source": [
    "`(s_star, x_star)` satisfies the Euler equations:"
   ]
  },
  {
   "cell_type": "code",
   "execution_count": 9,
   "metadata": {},
   "outputs": [
    {
     "data": {
      "text/plain": [
       "0.0"
      ]
     },
     "execution_count": 9,
     "metadata": {},
     "output_type": "execute_result"
    }
   ],
   "source": [
    "f_x(s_star, x_star) + discount * f_s(g(s_star, x_star), x_star) * g_x(s_star, x_star)"
   ]
  },
  {
   "cell_type": "markdown",
   "metadata": {},
   "source": [
    "Construct $f^*$, $\\nabla f^*$, $D^2 f^*$, $g^*$, and $\\nabla g^*$:"
   ]
  },
  {
   "cell_type": "code",
   "execution_count": 10,
   "metadata": {},
   "outputs": [],
   "source": [
    "f_star = f(s_star, x_star)\n",
    "Df_star = np.array([f_s(s_star, x_star), f_x(s_star, x_star)])\n",
    "DDf_star = np.array([[f_ss(s_star, x_star), f_sx(s_star, x_star)],\n",
    "                     [f_sx(s_star, x_star), f_xx(s_star, x_star)]])\n",
    "g_star = g(s_star, x_star)\n",
    "Dg_star = np.array([g_s(s_star, x_star), g_x(s_star, x_star)])"
   ]
  },
  {
   "cell_type": "markdown",
   "metadata": {},
   "source": [
    "## LQ Approximation"
   ]
  },
  {
   "cell_type": "markdown",
   "metadata": {},
   "source": [
    "Generate an LQ instance that approximates our dynamic optimization problem:"
   ]
  },
  {
   "cell_type": "code",
   "execution_count": 11,
   "metadata": {},
   "outputs": [],
   "source": [
    "lq = approx_lq(s_star, x_star, f_star, Df_star, DDf_star, g_star, Dg_star, discount)"
   ]
  },
  {
   "cell_type": "code",
   "execution_count": 12,
   "metadata": {},
   "outputs": [
    {
     "data": {
      "text/plain": [
       "array([[ 8.1624324]])"
      ]
     },
     "execution_count": 12,
     "metadata": {},
     "output_type": "execute_result"
    }
   ],
   "source": [
    "lq.Q"
   ]
  },
  {
   "cell_type": "code",
   "execution_count": 13,
   "metadata": {},
   "outputs": [
    {
     "data": {
      "text/plain": [
       "array([[ 2.8963447 , -4.04040404],\n",
       "       [-4.04040404,  8.1624324 ]])"
      ]
     },
     "execution_count": 13,
     "metadata": {},
     "output_type": "execute_result"
    }
   ],
   "source": [
    "lq.R"
   ]
  },
  {
   "cell_type": "code",
   "execution_count": 14,
   "metadata": {},
   "outputs": [
    {
     "data": {
      "text/plain": [
       "array([[ 4.04040404, -8.1624324 ]])"
      ]
     },
     "execution_count": 14,
     "metadata": {},
     "output_type": "execute_result"
    }
   ],
   "source": [
    "lq.N"
   ]
  },
  {
   "cell_type": "code",
   "execution_count": 15,
   "metadata": {},
   "outputs": [
    {
     "data": {
      "text/plain": [
       "array([[ 1.   ,  0.   ],\n",
       "       [ 0.225,  0.   ]])"
      ]
     },
     "execution_count": 15,
     "metadata": {},
     "output_type": "execute_result"
    }
   ],
   "source": [
    "lq.A"
   ]
  },
  {
   "cell_type": "code",
   "execution_count": 16,
   "metadata": {},
   "outputs": [
    {
     "data": {
      "text/plain": [
       "array([[ 0.        ],\n",
       "       [ 1.11111111]])"
      ]
     },
     "execution_count": 16,
     "metadata": {},
     "output_type": "execute_result"
    }
   ],
   "source": [
    "lq.B"
   ]
  },
  {
   "cell_type": "code",
   "execution_count": 17,
   "metadata": {},
   "outputs": [
    {
     "data": {
      "text/plain": [
       "0.9"
      ]
     },
     "execution_count": 17,
     "metadata": {},
     "output_type": "execute_result"
    }
   ],
   "source": [
    "lq.beta"
   ]
  },
  {
   "cell_type": "code",
   "execution_count": 18,
   "metadata": {
    "scrolled": true
   },
   "outputs": [
    {
     "data": {
      "text/plain": [
       "(array([  0.706756 ,  10.3520211]), array([[-0.87919749,  0.47645752],\n",
       "        [-0.47645752, -0.87919749]]))"
      ]
     },
     "execution_count": 18,
     "metadata": {},
     "output_type": "execute_result"
    }
   ],
   "source": [
    "np.linalg.eig(lq.R)"
   ]
  },
  {
   "cell_type": "markdown",
   "metadata": {},
   "source": [
    "## Solution by `LQ.stationary_values`"
   ]
  },
  {
   "cell_type": "markdown",
   "metadata": {},
   "source": [
    "Solve the LQ problem:"
   ]
  },
  {
   "cell_type": "code",
   "execution_count": 19,
   "metadata": {},
   "outputs": [
    {
     "data": {
      "text/plain": [
       "(array([[ 8.96344697,  0.        ],\n",
       "        [ 0.        ,  0.        ]]), array([[ 0.495, -1.   ]]), 0.0)"
      ]
     },
     "execution_count": 19,
     "metadata": {},
     "output_type": "execute_result"
    }
   ],
   "source": [
    "P, F, d = lq.stationary_values()\n",
    "P, F, d"
   ]
  },
  {
   "cell_type": "markdown",
   "metadata": {},
   "source": [
    "The optimal value function (of the LQ minimization problem):"
   ]
  },
  {
   "cell_type": "code",
   "execution_count": 20,
   "metadata": {},
   "outputs": [],
   "source": [
    "V = lambda s: np.array([1, s]) @ P @ np.array([1, s]) + d"
   ]
  },
  {
   "cell_type": "markdown",
   "metadata": {},
   "source": [
    "The value at $s^*$:"
   ]
  },
  {
   "cell_type": "code",
   "execution_count": 21,
   "metadata": {},
   "outputs": [
    {
     "data": {
      "text/plain": [
       "8.9634469697339139"
      ]
     },
     "execution_count": 21,
     "metadata": {},
     "output_type": "execute_result"
    }
   ],
   "source": [
    "V(s_star)"
   ]
  },
  {
   "cell_type": "markdown",
   "metadata": {},
   "source": [
    "The optimal policy function:"
   ]
  },
  {
   "cell_type": "code",
   "execution_count": 22,
   "metadata": {},
   "outputs": [],
   "source": [
    "X = lambda s: -F @ np.array([1, s])"
   ]
  },
  {
   "cell_type": "markdown",
   "metadata": {},
   "source": [
    "The optimal choice at $s^*$:"
   ]
  },
  {
   "cell_type": "code",
   "execution_count": 23,
   "metadata": {},
   "outputs": [
    {
     "data": {
      "text/plain": [
       "array([-0.045])"
      ]
     },
     "execution_count": 23,
     "metadata": {},
     "output_type": "execute_result"
    }
   ],
   "source": [
    "X(s_star)"
   ]
  },
  {
   "cell_type": "markdown",
   "metadata": {},
   "source": [
    "This is different from $x^*$:"
   ]
  },
  {
   "cell_type": "code",
   "execution_count": 24,
   "metadata": {
    "scrolled": true
   },
   "outputs": [
    {
     "data": {
      "text/plain": [
       "0.2025"
      ]
     },
     "execution_count": 24,
     "metadata": {},
     "output_type": "execute_result"
    }
   ],
   "source": [
    "x_star"
   ]
  },
  {
   "cell_type": "markdown",
   "metadata": {},
   "source": [
    "### State-control paths"
   ]
  },
  {
   "cell_type": "code",
   "execution_count": 25,
   "metadata": {},
   "outputs": [],
   "source": [
    "ts_length = 300\n",
    "s_path, x_path, _ = lq.compute_sequence([1, s_star+1], ts_length)"
   ]
  },
  {
   "cell_type": "code",
   "execution_count": 26,
   "metadata": {},
   "outputs": [
    {
     "data": {
      "image/png": "[encoded data removed]",
      "text/plain": [
       "<matplotlib.figure.Figure at 0x118107a20>"
      ]
     },
     "metadata": {},
     "output_type": "display_data"
    }
   ],
   "source": [
    "fig, ax = plt.subplots(figsize=(8,5))\n",
    "ax.plot(s_path[1, :])\n",
    "ax.set_title('State path')\n",
    "plt.show()"
   ]
  },
  {
   "cell_type": "code",
   "execution_count": 27,
   "metadata": {},
   "outputs": [
    {
     "data": {
      "image/png": "[encoded data removed]",
      "text/plain": [
       "<matplotlib.figure.Figure at 0x118196828>"
      ]
     },
     "metadata": {},
     "output_type": "display_data"
    }
   ],
   "source": [
    "fig, ax = plt.subplots(figsize=(8,5))\n",
    "ax.plot(s_path[1, :] * np.array([lq.beta**(t-1) for t in range(ts_length+1)]))\n",
    "ax.set_title('Discounted state path')\n",
    "plt.show()"
   ]
  },
  {
   "cell_type": "code",
   "execution_count": 28,
   "metadata": {
    "scrolled": true
   },
   "outputs": [
    {
     "data": {
      "text/plain": [
       "9.0227763743511638"
      ]
     },
     "execution_count": 28,
     "metadata": {},
     "output_type": "execute_result"
    }
   ],
   "source": [
    "evaluate_path(lq, s_path, x_path)"
   ]
  },
  {
   "cell_type": "code",
   "execution_count": 29,
   "metadata": {
    "scrolled": true
   },
   "outputs": [
    {
     "data": {
      "text/plain": [
       "8.9634469697339139"
      ]
     },
     "execution_count": 29,
     "metadata": {},
     "output_type": "execute_result"
    }
   ],
   "source": [
    "V(s_star)"
   ]
  },
  {
   "cell_type": "markdown",
   "metadata": {},
   "source": [
    "Stationary path:"
   ]
  },
  {
   "cell_type": "code",
   "execution_count": 30,
   "metadata": {},
   "outputs": [],
   "source": [
    "s_star_path = np.empty((2, ts_length+1))\n",
    "s_star_path[0], s_star_path[1] = 1, s_star\n",
    "\n",
    "x_star_path = np.empty((1, ts_length))\n",
    "x_star_path[0] = x_star"
   ]
  },
  {
   "cell_type": "code",
   "execution_count": 31,
   "metadata": {},
   "outputs": [
    {
     "data": {
      "text/plain": [
       "13.963446969733655"
      ]
     },
     "execution_count": 31,
     "metadata": {},
     "output_type": "execute_result"
    }
   ],
   "source": [
    "evaluate_path(lq, s_star_path, x_star_path)"
   ]
  },
  {
   "cell_type": "code",
   "execution_count": 32,
   "metadata": {},
   "outputs": [
    {
     "data": {
      "text/plain": [
       "13.963446969733925"
      ]
     },
     "execution_count": 32,
     "metadata": {},
     "output_type": "execute_result"
    }
   ],
   "source": [
    "-f_star / (1 - lq.beta)"
   ]
  },
  {
   "cell_type": "markdown",
   "metadata": {},
   "source": [
    "### Eigenvalues of `G = A - B @ F`"
   ]
  },
  {
   "cell_type": "code",
   "execution_count": 33,
   "metadata": {},
   "outputs": [
    {
     "data": {
      "text/plain": [
       "array([ 1.11111111,  1.        ])"
      ]
     },
     "execution_count": 33,
     "metadata": {},
     "output_type": "execute_result"
    }
   ],
   "source": [
    "G = lq.A - lq.B @ F\n",
    "w, v = np.linalg.eig(G)\n",
    "w"
   ]
  },
  {
   "cell_type": "code",
   "execution_count": 34,
   "metadata": {},
   "outputs": [
    {
     "data": {
      "text/plain": [
       "array([ 1. ,  0.9])"
      ]
     },
     "execution_count": 34,
     "metadata": {},
     "output_type": "execute_result"
    }
   ],
   "source": [
    "w * lq.beta"
   ]
  },
  {
   "cell_type": "markdown",
   "metadata": {},
   "source": [
    "## Solution by `scipy.linalg.solve_discrete_are`"
   ]
  },
  {
   "cell_type": "code",
   "execution_count": 35,
   "metadata": {},
   "outputs": [
    {
     "data": {
      "text/plain": [
       "array([[ 15.94691804,  -2.38751148],\n",
       "       [ -2.38751148,   0.81624324]])"
      ]
     },
     "execution_count": 35,
     "metadata": {},
     "output_type": "execute_result"
    }
   ],
   "source": [
    "A0, B0 = np.sqrt(lq.beta) * lq.A, np.sqrt(lq.beta) * lq.B\n",
    "P_sp = scipy.linalg.solve_discrete_are(A0, B0, lq.R, lq.Q, s=lq.N.reshape(2, 1))\n",
    "P_sp"
   ]
  },
  {
   "cell_type": "code",
   "execution_count": 36,
   "metadata": {},
   "outputs": [],
   "source": [
    "def compute_F(P, A, B, Q, N, beta):\n",
    "    S1 = Q + beta * np.dot(B.T, np.dot(P, B))\n",
    "    S2 = beta * np.dot(B.T, np.dot(P, A)) + N\n",
    "    F = np.linalg.solve(S1, S2)\n",
    "    return F"
   ]
  },
  {
   "cell_type": "code",
   "execution_count": 37,
   "metadata": {},
   "outputs": [
    {
     "data": {
      "text/plain": [
       "array([[ 0.2025, -0.9   ]])"
      ]
     },
     "execution_count": 37,
     "metadata": {},
     "output_type": "execute_result"
    }
   ],
   "source": [
    "F_sp = compute_F(P_sp, lq.A, lq.B, lq.Q, lq.N, lq.beta)\n",
    "F_sp"
   ]
  },
  {
   "cell_type": "code",
   "execution_count": 38,
   "metadata": {},
   "outputs": [],
   "source": [
    "V_sp = lambda s: np.array([1, s]) @ P_sp @ np.array([1, s])"
   ]
  },
  {
   "cell_type": "code",
   "execution_count": 39,
   "metadata": {},
   "outputs": [
    {
     "data": {
      "text/plain": [
       "13.963446969733827"
      ]
     },
     "execution_count": 39,
     "metadata": {},
     "output_type": "execute_result"
    }
   ],
   "source": [
    "V_sp(s_star)"
   ]
  },
  {
   "cell_type": "code",
   "execution_count": 40,
   "metadata": {},
   "outputs": [
    {
     "data": {
      "text/plain": [
       "13.963446969733925"
      ]
     },
     "execution_count": 40,
     "metadata": {},
     "output_type": "execute_result"
    }
   ],
   "source": [
    "-f_star / (1 - lq.beta)"
   ]
  },
  {
   "cell_type": "code",
   "execution_count": 41,
   "metadata": {},
   "outputs": [],
   "source": [
    "X_sp = lambda s: -F_sp @ np.array([1, s])"
   ]
  },
  {
   "cell_type": "code",
   "execution_count": 42,
   "metadata": {},
   "outputs": [
    {
     "data": {
      "text/plain": [
       "array([ 0.2025])"
      ]
     },
     "execution_count": 42,
     "metadata": {},
     "output_type": "execute_result"
    }
   ],
   "source": [
    "X_sp(s_star)"
   ]
  },
  {
   "cell_type": "code",
   "execution_count": 43,
   "metadata": {},
   "outputs": [
    {
     "data": {
      "text/plain": [
       "0.2025"
      ]
     },
     "execution_count": 43,
     "metadata": {},
     "output_type": "execute_result"
    }
   ],
   "source": [
    "x_star"
   ]
  },
  {
   "cell_type": "code",
   "execution_count": 44,
   "metadata": {},
   "outputs": [
    {
     "data": {
      "text/plain": [
       "array([[  1.00000000e+00,   0.00000000e+00],\n",
       "       [ -3.16413562e-15,   1.00000000e+00]])"
      ]
     },
     "execution_count": 44,
     "metadata": {},
     "output_type": "execute_result"
    }
   ],
   "source": [
    "G_sp = lq.A - lq.B @ F_sp\n",
    "G_sp"
   ]
  },
  {
   "cell_type": "code",
   "execution_count": 45,
   "metadata": {
    "scrolled": true
   },
   "outputs": [
    {
     "data": {
      "text/plain": [
       "array([ 1.,  1.])"
      ]
     },
     "execution_count": 45,
     "metadata": {},
     "output_type": "execute_result"
    }
   ],
   "source": [
    "w, v = np.linalg.eig(G_sp)\n",
    "w"
   ]
  },
  {
   "cell_type": "code",
   "execution_count": null,
   "metadata": {},
   "outputs": [],
   "source": []
  }
 ],
 "metadata": {
  "kernelspec": {
   "display_name": "Python 3",
   "language": "python",
   "name": "python3"
  },
  "language_info": {
   "codemirror_mode": {
    "name": "ipython",
    "version": 3
   },
   "file_extension": ".py",
   "mimetype": "text/x-python",
   "name": "python",
   "nbconvert_exporter": "python",
   "pygments_lexer": "ipython3",
   "version": "3.6.1"
  }
 },
 "nbformat": 4,
 "nbformat_minor": 2
}
