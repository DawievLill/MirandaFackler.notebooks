{
 "cells": [
  {
   "cell_type": "markdown",
   "metadata": {},
   "source": [
    "# Bellman Equation Collocation Method"
   ]
  },
  {
   "cell_type": "code",
   "execution_count": 1,
   "metadata": {
    "scrolled": true
   },
   "outputs": [],
   "source": [
    "using BasisMatrices\n",
    "using QuantEcon\n",
    "using Optim\n",
    "using Plots"
   ]
  },
  {
   "cell_type": "markdown",
   "metadata": {},
   "source": [
    "For discrete time dynamic programs\n",
    "with 1-dimenstional continuous states and actions:"
   ]
  },
  {
   "cell_type": "code",
   "execution_count": 2,
   "metadata": {
    "collapsed": true
   },
   "outputs": [],
   "source": [
    "struct DPModel{N}\n",
    "    f::Function\n",
    "    g::Function\n",
    "    discount::Float64\n",
    "    shocks::Vector{Float64}\n",
    "    weights::Vector{Float64}\n",
    "    n::Int  # Size of state grid\n",
    "    basis::Basis{N}\n",
    "    S::Vector{Float64}\n",
    "    Phi_lu::LinAlg.LU{Float64,Matrix{Float64}}\n",
    "    lb::Function\n",
    "    ub::Function\n",
    "end"
   ]
  },
  {
   "cell_type": "code",
   "execution_count": 3,
   "metadata": {},
   "outputs": [
    {
     "data": {
      "text/plain": [
       "DPModel"
      ]
     },
     "execution_count": 3,
     "metadata": {},
     "output_type": "execute_result"
    }
   ],
   "source": [
    "function DPModel{N}(f::Function, g::Function, discount::Float64, \n",
    "                    shocks::Vector{Float64}, weights::Vector{Float64},\n",
    "                    basis::Basis{N},\n",
    "                    lb::Function, ub::Function)\n",
    "    S, _ = nodes(basis)\n",
    "    n = length(basis)\n",
    "    Phi = BasisMatrix(basis, Expanded(), S).vals[1]\n",
    "    Phi_lu = lufact(Phi)\n",
    "    dp = DPModel{N}(f, g, discount, shocks, weights, n, basis, S, Phi_lu, lb, ub)\n",
    "    return dp\n",
    "end"
   ]
  },
  {
   "cell_type": "code",
   "execution_count": 4,
   "metadata": {},
   "outputs": [
    {
     "data": {
      "text/plain": [
       "vmax (generic function with 1 method)"
      ]
     },
     "execution_count": 4,
     "metadata": {},
     "output_type": "execute_result"
    }
   ],
   "source": [
    "function vmax(dp::DPModel, s::Float64, C::Vector{Float64})\n",
    "    objective(x) = -dp.f(s, x) -\n",
    "        dp.discount * (dp.weights' * funeval(C, dp.basis, dp.g.(s, x, dp.shocks)))\n",
    "    res = optimize(objective, lb(s), ub(s))\n",
    "    v = -res.minimum::Float64\n",
    "    x = res.minimizer::Float64\n",
    "    return v, x\n",
    "end"
   ]
  },
  {
   "cell_type": "code",
   "execution_count": 5,
   "metadata": {},
   "outputs": [
    {
     "data": {
      "text/plain": [
       "vmax (generic function with 2 methods)"
      ]
     },
     "execution_count": 5,
     "metadata": {},
     "output_type": "execute_result"
    }
   ],
   "source": [
    "function vmax!(dp::DPModel, ss::AbstractVector{Float64}, C::Vector{Float64},\n",
    "               Tv::Vector{Float64})\n",
    "    for (i, s) in enumerate(ss)\n",
    "        Tv[i], _ = vmax(dp, s, C)\n",
    "    end\n",
    "    return Tv\n",
    "end\n",
    "\n",
    "function vmax!(dp::DPModel, ss::AbstractVector{Float64}, C::Vector{Float64},\n",
    "               Tv::Vector{Float64}, X::Vector{Float64})\n",
    "    for (i, s) in enumerate(ss)\n",
    "        Tv[i], X[i] = vmax(dp, s, C)\n",
    "    end\n",
    "    return Tv, X\n",
    "end\n",
    "\n",
    "function vmax(dp::DPModel, ss::AbstractVector{Float64}, C::Vector{Float64})\n",
    "    Tv, X = similar(ss),similar(ss)\n",
    "    vmax!(dp, ss, C, Tv, X)\n",
    "end"
   ]
  },
  {
   "cell_type": "code",
   "execution_count": 6,
   "metadata": {
    "scrolled": true
   },
   "outputs": [
    {
     "data": {
      "text/plain": [
       "bellman_operator! (generic function with 1 method)"
      ]
     },
     "execution_count": 6,
     "metadata": {},
     "output_type": "execute_result"
    }
   ],
   "source": [
    "function bellman_operator!(dp::DPModel, C::Vector{Float64},\n",
    "                           Tv::Vector{Float64})\n",
    "    Tv = vmax!(dp, dp.S, C, Tv)\n",
    "    A_ldiv_B!(C, dp.Phi_lu, Tv)\n",
    "    return C\n",
    "end"
   ]
  },
  {
   "cell_type": "code",
   "execution_count": 7,
   "metadata": {},
   "outputs": [
    {
     "data": {
      "text/plain": [
       "operator_iteration! (generic function with 1 method)"
      ]
     },
     "execution_count": 7,
     "metadata": {},
     "output_type": "execute_result"
    }
   ],
   "source": [
    "function operator_iteration!{TC}(T::Function, C::TC;\n",
    "                                 tol::Float64=1e-4, max_iter::Int=100,\n",
    "                                 verbose::Int=2, print_skip::Int=50)\n",
    "    i = 0\n",
    "    err = tol + 1\n",
    "    C_old = similar(C)\n",
    "    while i < max_iter && err > tol\n",
    "        copy!(C_old, C)\n",
    "        C = T(C)::TC\n",
    "        err = maximum(abs, C - C_old)\n",
    "        i += 1\n",
    "        \n",
    "        (i >= max_iter || err <= tol) && break\n",
    "        \n",
    "        if (verbose == 2) && (i % print_skip == 0)\n",
    "            println(\"Compute iterate $i with error $err\")\n",
    "        end\n",
    "    end\n",
    "    \n",
    "    if verbose == 2\n",
    "        println(\"Compute iterate $i with error $err\")\n",
    "    end\n",
    "    \n",
    "    if verbose >= 1\n",
    "        if err > tol\n",
    "            warn(\"max_iter attained\")\n",
    "        elseif verbose == 2\n",
    "            println(\"Converged in $i steps\")\n",
    "        end\n",
    "    end\n",
    "    \n",
    "    return C\n",
    "end"
   ]
  },
  {
   "cell_type": "markdown",
   "metadata": {},
   "source": [
    "## Optimal Economic Growth"
   ]
  },
  {
   "cell_type": "code",
   "execution_count": 8,
   "metadata": {
    "collapsed": true
   },
   "outputs": [],
   "source": [
    "n = 10\n",
    "s_min, s_max = 5, 10;"
   ]
  },
  {
   "cell_type": "code",
   "execution_count": 9,
   "metadata": {},
   "outputs": [
    {
     "data": {
      "text/plain": [
       "1 dimensional Basis on the hypercube formed by (5.0,) × (10.0,).\n",
       "Basis families are Cheb\n"
      ]
     },
     "execution_count": 9,
     "metadata": {},
     "output_type": "execute_result"
    }
   ],
   "source": [
    "basis = Basis(ChebParams(n, s_min, s_max))"
   ]
  },
  {
   "cell_type": "code",
   "execution_count": 10,
   "metadata": {
    "collapsed": true
   },
   "outputs": [],
   "source": [
    "alpha = 0.2\n",
    "bet = 0.5\n",
    "gamm = 0.9\n",
    "sigma = 0.1\n",
    "discount = 0.9;"
   ]
  },
  {
   "cell_type": "code",
   "execution_count": 11,
   "metadata": {},
   "outputs": [
    {
     "data": {
      "text/plain": [
       "(7.416897506925212, 5.6094182825484795)"
      ]
     },
     "execution_count": 11,
     "metadata": {},
     "output_type": "execute_result"
    }
   ],
   "source": [
    "x_star = ((discount * bet) / (1 - discount * gamm))^(1 / (1 - bet))\n",
    "s_star = gamm * x_star + x_star^bet\n",
    "s_star, x_star"
   ]
  },
  {
   "cell_type": "code",
   "execution_count": 12,
   "metadata": {
    "collapsed": true
   },
   "outputs": [],
   "source": [
    "f(s, x) = (s - x)^(1 - alpha) / (1 - alpha)\n",
    "g(s, x, e) = gamm * x + e * x^bet;"
   ]
  },
  {
   "cell_type": "code",
   "execution_count": 13,
   "metadata": {},
   "outputs": [
    {
     "data": {
      "text/plain": [
       "([0.840965, 1.0, 1.18911], [0.166667, 0.666667, 0.166667])"
      ]
     },
     "execution_count": 13,
     "metadata": {},
     "output_type": "execute_result"
    }
   ],
   "source": [
    "n_shocks = 3\n",
    "shocks, weights = qnwlogn(n_shocks, 0, sigma^2)"
   ]
  },
  {
   "cell_type": "code",
   "execution_count": 14,
   "metadata": {
    "collapsed": true
   },
   "outputs": [],
   "source": [
    "lb(s) = 0\n",
    "ub(s) = s;"
   ]
  },
  {
   "cell_type": "code",
   "execution_count": 15,
   "metadata": {
    "scrolled": true
   },
   "outputs": [
    {
     "data": {
      "text/plain": [
       "DPModel{1}(f, g, 0.9, [0.840965, 1.0, 1.18911], [0.166667, 0.666667, 0.166667], 10, 1 dimensional Basis on the hypercube formed by (5.0,) × (10.0,).\n",
       "Basis families are Cheb\n",
       ", [5.03078, 5.27248, 5.73223, 6.36502, 7.10891, 7.89109, 8.63498, 9.26777, 9.72752, 9.96922], Base.LinAlg.LU{Float64,Array{Float64,2}} with factors L and U:\n",
       "[1.0 0.0 … 0.0 0.0; 1.0 1.0 … 0.0 0.0; … ; 1.0 0.0489435 … 1.0 0.0; 1.0 0.579192 … -0.45965 1.0]\n",
       "[1.0 -0.987688 … 0.309017 -0.156434; 0.0 1.97538 … -1.4877e-14 0.312869; … ; 0.0 0.0 … -5.25731 1.64485; 0.0 0.0 … 0.0 5.06233], lb, ub)"
      ]
     },
     "execution_count": 15,
     "metadata": {},
     "output_type": "execute_result"
    }
   ],
   "source": [
    "dp = DPModel(f, g, discount, shocks, weights, basis, lb, ub)"
   ]
  },
  {
   "cell_type": "code",
   "execution_count": 20,
   "metadata": {},
   "outputs": [
    {
     "name": "stdout",
     "output_type": "stream",
     "text": [
      "Compute iterate 50 with error 0.008638196659472186\n",
      "Compute iterate 100 with error 4.4519323829206314e-5\n",
      "Compute iterate 150 with error 2.2944259114865417e-7\n",
      "Compute iterate 200 with error 1.182499431706674e-9\n",
      "Compute iterate 202 with error 9.578258186593303e-10\n",
      "Converged in 202 steps\n"
     ]
    }
   ],
   "source": [
    "tol = 1e-9\n",
    "max_iter = 250\n",
    "Tv = Array{Float64}(dp.n)  # Temporary array\n",
    "bellman_operator!(C) = bellman_operator!(dp, C, Tv)\n",
    "C = zeros(n)\n",
    "C = operator_iteration!(bellman_operator!, C; tol=tol, max_iter=max_iter);"
   ]
  },
  {
   "cell_type": "code",
   "execution_count": 21,
   "metadata": {},
   "outputs": [],
   "source": [
    "s_min, s_max = 5, 10\n",
    "grid_size = 100\n",
    "ss = linspace(s_min, s_max, grid_size)\n",
    "V, X = vmax(dp, ss, C)\n",
    "resid = V - funeval(C, dp.basis, ss);"
   ]
  },
  {
   "cell_type": "code",
   "execution_count": 22,
   "metadata": {},
   "outputs": [
    {
     "data": {
      "text/html": [
       "<img src=\"data:image/png;base64,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\" />"
      ]
     },
     "execution_count": 22,
     "metadata": {},
     "output_type": "execute_result"
    }
   ],
   "source": [
    "title = \"Optimal Investment Policy\"\n",
    "xlabel = \"Wealth\"\n",
    "ylabel = \"Investment (% of Wealth)\"\n",
    "plot(ss, X./ss, xlims=(s_min, s_max), ylims=(0.65, 0.9),\n",
    "     title=title, xlabel=xlabel, ylabel=ylabel, label=\"Chebychev\")\n",
    "plot!([s_star], [x_star/s_star], m=(7,:star8), label=\"\")"
   ]
  },
  {
   "cell_type": "code",
   "execution_count": 23,
   "metadata": {
    "scrolled": false
   },
   "outputs": [
    {
     "data": {
      "text/html": [
       "<img src=\"data:image/png;base64,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\" />"
      ]
     },
     "execution_count": 23,
     "metadata": {},
     "output_type": "execute_result"
    }
   ],
   "source": [
    "title = \"Approximation Residual\"\n",
    "ylabel = \"Residual\"\n",
    "plot(ss, resid, xlims=(s_min, s_max), yformatter=:scientific,\n",
    "     title=title, xlabel=xlabel, ylabel=ylabel, label=\"\")"
   ]
  },
  {
   "cell_type": "code",
   "execution_count": null,
   "metadata": {
    "collapsed": true
   },
   "outputs": [],
   "source": []
  }
 ],
 "metadata": {
  "kernelspec": {
   "display_name": "Julia 0.6.0",
   "language": "julia",
   "name": "julia-0.6"
  },
  "language_info": {
   "file_extension": ".jl",
   "mimetype": "application/julia",
   "name": "julia",
   "version": "0.6.0"
  }
 },
 "nbformat": 4,
 "nbformat_minor": 2
}
