{
 "cells": [
  {
   "cell_type": "markdown",
   "metadata": {},
   "source": [
    "# LQ Approximation with `QuantEcon.py`"
   ]
  },
  {
   "cell_type": "code",
   "execution_count": 1,
   "metadata": {},
   "outputs": [],
   "source": [
    "import numpy as np\n",
    "import matplotlib.pyplot as plt\n",
    "import quantecon as qe"
   ]
  },
  {
   "cell_type": "code",
   "execution_count": 2,
   "metadata": {},
   "outputs": [],
   "source": [
    "# matplotlib settings\n",
    "plt.rcParams['axes.xmargin'] = 0\n",
    "plt.rcParams['axes.ymargin'] = 0"
   ]
  },
  {
   "cell_type": "markdown",
   "metadata": {},
   "source": [
    "We consider a dynamic maximization problem with\n",
    "\n",
    "* reward function $f(s, x)$,\n",
    "* state transition function $g(s, x)$, and\n",
    "* discount rate $\\delta$,\n",
    "\n",
    "where $s$ and $x$ are the state and the control variables, respectively\n",
    "(we follow Miranda-Fackler in notation).\n",
    "\n",
    "Let $(s^*, x^*)$ denote the steady state state-control pair,\n",
    "and write\n",
    "$f^* = f(s^*, x^*)$, $f_i^* = f_i(s^*, x^*)$, $f_{ij}^* = f_{ij}(s^*, x^*)$,\n",
    "$g^* = g(s^*, x^*)$, and $g_i^* = g_i(s^*, x^*)$ for $i, j = s, x$."
   ]
  },
  {
   "cell_type": "markdown",
   "metadata": {},
   "source": [
    "First-order expansion of $g$ around $(s^*, x^*)$:\n",
    "$$\n",
    "\\begin{align*}\n",
    "g(s, x)\n",
    "&\\approx g^* + g_s^* (s - s^*) + g_x^* (x - x^*) \\\\\n",
    "&= A \\begin{pmatrix}1 \\\\ s\\end{pmatrix} + B x,\n",
    "\\end{align*}\n",
    "$$\n",
    "where\n",
    "\n",
    "* $A =\n",
    "  \\begin{pmatrix}\n",
    "  1 & 0 \\\\\n",
    "  g^* - \\nabla g^{*\\mathrm{T}} z^* & g_s^*\n",
    "  \\end{pmatrix}$,\n",
    "\n",
    "* $B =\n",
    "  \\begin{pmatrix}\n",
    "  0 \\\\ g_x^*\n",
    "  \\end{pmatrix}$\n",
    "\n",
    "with $z^* = (s^*, x^*)^{\\mathrm{T}}$ and $\\nabla g^* = (g_s^*, g_x^*)^{\\mathrm{T}}$."
   ]
  },
  {
   "cell_type": "markdown",
   "metadata": {},
   "source": [
    "Second-order expansion of $f$ around $(s^*, x^*)$:\n",
    "$$\n",
    "\\begin{align*}\n",
    "f(s, x)\n",
    "&\\approx f^* + f_s^* (s - s^*) + f_x^* (x - x^*) +\n",
    "         \\frac{1}{2} f_{ss}^* (s - s^*)^2 + f_{sx}^* (s - s^*) (x - x^*) +\n",
    "         \\frac{1}{2} f_{xx}^* (x - x^*)^2 \\\\\n",
    "&= \\begin{pmatrix}\n",
    "   1 & s & x\n",
    "   \\end{pmatrix}\n",
    "   \\begin{pmatrix}\n",
    "   f^* - \\nabla f^{*\\mathrm{T}} z^* + \\frac{1}{2} z^{*\\mathrm{T}} D^2 f^* z^* &\n",
    "   \\frac{1}{2} (\\nabla f^* - D^2 f^* z^*)^{\\mathrm{T}} \\\\\n",
    "   \\frac{1}{2} (\\nabla f^* - D^2 f^* z^*) & \\frac{1}{2} D^2 f^*\n",
    "   \\end{pmatrix}\n",
    "   \\begin{pmatrix}\n",
    "   1 \\\\ s \\\\ x\n",
    "   \\end{pmatrix},\n",
    "\\end{align*}\n",
    "$$\n",
    "where\n",
    "$\\nabla f^* = (f_s^*, f_x^*)^{\\mathrm{T}}$ and\n",
    "$$\n",
    "D^2 f^* =\n",
    "\\begin{pmatrix}\n",
    "f_{ss}^* & f_{sx}^* \\\\\n",
    "f_{sx}^* & f_{xx}^*\n",
    "\\end{pmatrix}.\n",
    "$$"
   ]
  },
  {
   "cell_type": "markdown",
   "metadata": {},
   "source": [
    "Let\n",
    "$$\n",
    "\\begin{align*}\n",
    "r(s, x)\n",
    "&= -\n",
    "   \\begin{pmatrix}\n",
    "   1 & s & x\n",
    "   \\end{pmatrix}\n",
    "   \\begin{pmatrix}\n",
    "   f^* - \\nabla f^{*\\mathrm{T}} z^* + \\frac{1}{2} z^{*\\mathrm{T}} D^2 f^* z^* &\n",
    "   \\frac{1}{2} (\\nabla f^* - D^2 f^* z^*)^{\\mathrm{T}} \\\\\n",
    "   \\frac{1}{2} (\\nabla f^* - D^2 f^* z^*) & \\frac{1}{2} D^2 f^*\n",
    "   \\end{pmatrix}\n",
    "   \\begin{pmatrix}\n",
    "   1 \\\\ s \\\\ x\n",
    "   \\end{pmatrix} \\\\\n",
    "&= \\begin{pmatrix}\n",
    "   1 & s\n",
    "   \\end{pmatrix}\n",
    "   R\n",
    "   \\begin{pmatrix}\n",
    "   1 \\\\ s\n",
    "   \\end{pmatrix} +\n",
    "   2 x N\n",
    "   \\begin{pmatrix}\n",
    "   1 \\\\ s\n",
    "   \\end{pmatrix} +\n",
    "   Q x,\n",
    "\\end{align*}\n",
    "$$\n",
    "where\n",
    "\n",
    "* $R = -\n",
    "  \\begin{pmatrix}\n",
    "  f^* - \\nabla f^{*\\mathrm{T}} z^* + \\frac{1}{2} z^{*\\mathrm{T}} D^2 f^* z^* &\n",
    "  \\frac{1}{2} [f_s^* - (f_{ss}^* s^* + f_{sx}^* x^*)] \\\\\n",
    "  \\frac{1}{2} [f_s^* - (f_{ss}^* s^* + f_{sx}^* x^*)] & \\frac{1}{2} f_{ss}^*\n",
    "  \\end{pmatrix}$,\n",
    "\n",
    "* $N = -\n",
    "  \\begin{pmatrix}\n",
    "  \\frac{1}{2} [f_x^* - (f_{sx}^* s^* + f_{xx}^* x^*)] & \\frac{1}{2} f_{sx}^*\n",
    "  \\end{pmatrix}$.\n",
    "\n",
    "* $Q = -\\frac{1}{2} f_{xx}^*$."
   ]
  },
  {
   "cell_type": "markdown",
   "metadata": {},
   "source": [
    "Remarks:\n",
    "\n",
    "* We are going to *minimize* the objective function."
   ]
  },
  {
   "cell_type": "code",
   "execution_count": 3,
   "metadata": {},
   "outputs": [],
   "source": [
    "def approx_lq(s_star, x_star, f_star, Df_star, DDf_star, g_star, Dg_star, discount):\n",
    "    \"\"\"\n",
    "    Return an approximating LQ instance.\n",
    "    \n",
    "    Gradient of f: Df_star = np.array([f_s, f_x])\n",
    "    Hessian of f: DDf_star = np.array([[f_ss, f_sx], [f_sx, f_xx]])\n",
    "    Gradient of g: Dg_star = np.array([g_s, g_x])\n",
    "    \n",
    "    \"\"\"\n",
    "    n = 2\n",
    "    k = 1\n",
    "    sx_star = np.array([s_star, x_star])\n",
    "    \n",
    "    # (1, s)' R (1, s) + 2 x N (1, s) + x Q x\n",
    "    Q = np.empty((k, k))\n",
    "    R = np.empty((n, n))\n",
    "    N = np.empty((k, n))\n",
    "    R[0, 0] = -(f_star - Df_star @ sx_star + (sx_star @ DDf_star @ sx_star) / 2)\n",
    "    R[1, 1], N[0, 1], N[0, 1], Q[0, 0] = -DDf_star.ravel() / 2\n",
    "    R[1, 0], N[0, 0] = -(Df_star - DDf_star @ sx_star).ravel() / 2\n",
    "    R[0, 1] = R[1, 0]\n",
    "    \n",
    "    # A (1, s) + B x + C w\n",
    "    A = np.empty((n, n))\n",
    "    B = np.empty((n, k))\n",
    "    C = np.zeros((n, 1))\n",
    "    A[0, 0], A[0, 1], B[0, 0] = 1, 0, 0\n",
    "    A[1, 0] = g_star - Dg_star @ sx_star\n",
    "    A[1, 1], B[1, 0] = Dg_star.ravel()\n",
    "    \n",
    "    lq = qe.LQ(Q, R, A, B, C, N, beta=discount)\n",
    "    return lq"
   ]
  },
  {
   "cell_type": "markdown",
   "metadata": {},
   "source": [
    "## Optimal Economic Growth"
   ]
  },
  {
   "cell_type": "markdown",
   "metadata": {},
   "source": [
    "We consider the following optimal growth model from Miranda and Fackler, Section 9.7.1:\n",
    "\n",
    "* $f(s, x) = \\dfrac{(s - x)^{1-\\alpha}}{1-\\alpha}$,\n",
    "* $g(s, x) = \\gamma + x^{\\beta}$."
   ]
  },
  {
   "cell_type": "code",
   "execution_count": 4,
   "metadata": {},
   "outputs": [],
   "source": [
    "alpha = 0.2\n",
    "beta = 0.5\n",
    "gamma = 0.9\n",
    "discount = 0.9"
   ]
  },
  {
   "cell_type": "markdown",
   "metadata": {},
   "source": [
    "Function definitions:"
   ]
  },
  {
   "cell_type": "code",
   "execution_count": 5,
   "metadata": {},
   "outputs": [],
   "source": [
    "f = lambda s, x: (s - x)**(1 - alpha) / (1 - alpha)\n",
    "f_s = lambda s, x: (s - x)**(-alpha)\n",
    "f_x = lambda s, x: -f_s(s, x)\n",
    "f_ss = lambda s, x: -alpha * (s - x)**(-alpha - 1)\n",
    "f_sx = lambda s, x: -f_ss(s, x)\n",
    "f_xx = lambda s, x: f_ss(s, x)\n",
    "\n",
    "g = lambda s, x: gamma * x + x**beta\n",
    "g_s = lambda s, x: 0\n",
    "g_x = lambda s, x: gamma + beta * x**(beta - 1)"
   ]
  },
  {
   "cell_type": "markdown",
   "metadata": {},
   "source": [
    "Steady state:"
   ]
  },
  {
   "cell_type": "code",
   "execution_count": 6,
   "metadata": {},
   "outputs": [
    {
     "data": {
      "text/plain": [
       "(7.416897506925212, 5.6094182825484795)"
      ]
     },
     "execution_count": 6,
     "metadata": {},
     "output_type": "execute_result"
    }
   ],
   "source": [
    "x_star = ((discount * beta) / (1 - discount * gamma))**(1 / (1 - beta))\n",
    "s_star = gamma * x_star + x_star**beta\n",
    "s_star, x_star"
   ]
  },
  {
   "cell_type": "markdown",
   "metadata": {},
   "source": [
    "`(s_star, x_star)` satisfies the Euler equations:"
   ]
  },
  {
   "cell_type": "code",
   "execution_count": 7,
   "metadata": {},
   "outputs": [
    {
     "data": {
      "text/plain": [
       "1.1102230246251565e-16"
      ]
     },
     "execution_count": 7,
     "metadata": {},
     "output_type": "execute_result"
    }
   ],
   "source": [
    "f_x(s_star, x_star) + discount * f_s(g(s_star, x_star), x_star) * g_x(s_star, x_star)"
   ]
  },
  {
   "cell_type": "markdown",
   "metadata": {},
   "source": [
    "Construct $f^*$, $\\nabla f^*$, $D^2 f^*$, $g^*$, and $\\nabla g^*$:"
   ]
  },
  {
   "cell_type": "code",
   "execution_count": 8,
   "metadata": {},
   "outputs": [],
   "source": [
    "f_star = f(s_star, x_star)\n",
    "Df_star = np.array([f_s(s_star, x_star), f_x(s_star, x_star)])\n",
    "DDf_star = np.array([[f_ss(s_star, x_star), f_sx(s_star, x_star)],\n",
    "                     [f_sx(s_star, x_star), f_xx(s_star, x_star)]])\n",
    "g_star = g(s_star, x_star)\n",
    "Dg_star = np.array([g_s(s_star, x_star), g_x(s_star, x_star)])"
   ]
  },
  {
   "cell_type": "markdown",
   "metadata": {},
   "source": [
    "## LQ Approximation"
   ]
  },
  {
   "cell_type": "markdown",
   "metadata": {},
   "source": [
    "Generate an LQ instance that approximates our dynamic optimization problem:"
   ]
  },
  {
   "cell_type": "code",
   "execution_count": 9,
   "metadata": {},
   "outputs": [],
   "source": [
    "lq = approx_lq(s_star, x_star, f_star, Df_star, DDf_star, g_star, Dg_star, discount)"
   ]
  },
  {
   "cell_type": "markdown",
   "metadata": {},
   "source": [
    "## Solution by `LQ.stationary_values`"
   ]
  },
  {
   "cell_type": "markdown",
   "metadata": {},
   "source": [
    "Solve the LQ problem:"
   ]
  },
  {
   "cell_type": "code",
   "execution_count": 10,
   "metadata": {
    "scrolled": true
   },
   "outputs": [
    {
     "data": {
      "text/plain": [
       "(array([[ -1.32117956e+01,  -4.80629345e-01],\n",
       "        [ -4.80629345e-01,   4.91486986e-03]]),\n",
       " array([[ 1.06578947, -0.9       ]]),\n",
       " 0.0)"
      ]
     },
     "execution_count": 10,
     "metadata": {},
     "output_type": "execute_result"
    }
   ],
   "source": [
    "P, F, d = lq.stationary_values()\n",
    "P, F, d"
   ]
  },
  {
   "cell_type": "markdown",
   "metadata": {},
   "source": [
    "The optimal value function (of the LQ minimization problem):"
   ]
  },
  {
   "cell_type": "code",
   "execution_count": 11,
   "metadata": {},
   "outputs": [],
   "source": [
    "V = lambda s: np.array([1, s]) @ P @ np.array([1, s]) + d"
   ]
  },
  {
   "cell_type": "markdown",
   "metadata": {},
   "source": [
    "The value at $s^*$:"
   ]
  },
  {
   "cell_type": "code",
   "execution_count": 12,
   "metadata": {
    "scrolled": true
   },
   "outputs": [
    {
     "data": {
      "text/plain": [
       "-20.070983979777338"
      ]
     },
     "execution_count": 12,
     "metadata": {},
     "output_type": "execute_result"
    }
   ],
   "source": [
    "V(s_star)"
   ]
  },
  {
   "cell_type": "code",
   "execution_count": 13,
   "metadata": {},
   "outputs": [
    {
     "data": {
      "text/plain": [
       "-20.070983979777242"
      ]
     },
     "execution_count": 13,
     "metadata": {},
     "output_type": "execute_result"
    }
   ],
   "source": [
    "-f_star / (1 - lq.beta)"
   ]
  },
  {
   "cell_type": "markdown",
   "metadata": {},
   "source": [
    "The optimal policy function:"
   ]
  },
  {
   "cell_type": "code",
   "execution_count": 14,
   "metadata": {},
   "outputs": [],
   "source": [
    "X = lambda s: -(F @ np.array([1, s]))[0]"
   ]
  },
  {
   "cell_type": "markdown",
   "metadata": {},
   "source": [
    "The optimal choice at $s^*$:"
   ]
  },
  {
   "cell_type": "code",
   "execution_count": 15,
   "metadata": {},
   "outputs": [
    {
     "data": {
      "text/plain": [
       "5.6094182825484609"
      ]
     },
     "execution_count": 15,
     "metadata": {},
     "output_type": "execute_result"
    }
   ],
   "source": [
    "X(s_star)"
   ]
  },
  {
   "cell_type": "code",
   "execution_count": 16,
   "metadata": {
    "scrolled": true
   },
   "outputs": [
    {
     "data": {
      "text/plain": [
       "5.6094182825484795"
      ]
     },
     "execution_count": 16,
     "metadata": {},
     "output_type": "execute_result"
    }
   ],
   "source": [
    "x_star"
   ]
  },
  {
   "cell_type": "code",
   "execution_count": 17,
   "metadata": {
    "scrolled": true
   },
   "outputs": [
    {
     "data": {
      "image/png": "[encoded data removed]",
      "text/plain": [
       "<matplotlib.figure.Figure at 0x112928668>"
      ]
     },
     "metadata": {},
     "output_type": "display_data"
    }
   ],
   "source": [
    "X = np.vectorize(X)\n",
    "s_min, s_max = 5, 10\n",
    "ss = np.linspace(s_min, s_max, 50)\n",
    "title = \"Optimal Investment Policy\"\n",
    "xlabel = \"Wealth\"\n",
    "ylabel = \"Investment (% of Wealth)\"\n",
    "fig, ax = plt.subplots(figsize=(8,5))\n",
    "ax.plot(ss, X(ss)/ss, label='L-Q')\n",
    "ax.plot(s_star, x_star/s_star, '*', color='k', markersize=10)\n",
    "ax.set_xlim(s_min, s_max)\n",
    "ax.set_ylim(0.65, 0.9)\n",
    "ax.set_title(title)\n",
    "ax.set_xlabel(xlabel)\n",
    "ax.set_ylabel(ylabel)\n",
    "ax.tick_params(right='on')\n",
    "ax.legend()\n",
    "plt.show()"
   ]
  },
  {
   "cell_type": "markdown",
   "metadata": {},
   "source": [
    "## Renewable Resource Management"
   ]
  },
  {
   "cell_type": "markdown",
   "metadata": {},
   "source": [
    "Consider the renewable resource management model from Miranda and Fackler, Section 9.7.2:\n",
    "\n",
    "* $f(s, x) = \\dfrac{(s - x)^{1-\\gamma}}{1-\\gamma} - \\kappa (s - x)$,\n",
    "* $g(s, x) = \\alpha x - 0.5 \\beta x^2$."
   ]
  },
  {
   "cell_type": "code",
   "execution_count": 18,
   "metadata": {},
   "outputs": [],
   "source": [
    "alpha = 4.0\n",
    "beta = 1.0\n",
    "gamma = 0.5\n",
    "kappa = 0.2\n",
    "discount = 0.9"
   ]
  },
  {
   "cell_type": "code",
   "execution_count": 19,
   "metadata": {},
   "outputs": [],
   "source": [
    "f = lambda s, x: (s - x)**(1 - gamma) / (1 - gamma) - kappa * (s - x)\n",
    "f_s = lambda s, x: (s - x)**(-gamma) - kappa\n",
    "f_x = lambda s, x: -f_s(s, x)\n",
    "f_ss = lambda s, x: -gamma * (s - x)**(-gamma - 1)\n",
    "f_sx = lambda s, x: -f_ss(s, x)\n",
    "f_xx = lambda s, x: f_ss(s, x)\n",
    "\n",
    "g = lambda s, x: alpha * x - 0.5 * beta * x**2\n",
    "g_s = lambda s, x: 0\n",
    "g_x = lambda s, x: alpha - beta * x"
   ]
  },
  {
   "cell_type": "code",
   "execution_count": 20,
   "metadata": {},
   "outputs": [
    {
     "data": {
      "text/plain": [
       "(7.382716049382716, 2.888888888888889)"
      ]
     },
     "execution_count": 20,
     "metadata": {},
     "output_type": "execute_result"
    }
   ],
   "source": [
    "x_star = (discount * alpha - 1) / (discount * beta)\n",
    "s_star = (alpha**2 - 1/discount**2) / (2 * beta)\n",
    "s_star, x_star"
   ]
  },
  {
   "cell_type": "code",
   "execution_count": 21,
   "metadata": {},
   "outputs": [
    {
     "data": {
      "text/plain": [
       "5.551115123125783e-17"
      ]
     },
     "execution_count": 21,
     "metadata": {},
     "output_type": "execute_result"
    }
   ],
   "source": [
    "f_x(s_star, x_star) + discount * f_s(g(s_star, x_star), x_star) * g_x(s_star, x_star)"
   ]
  },
  {
   "cell_type": "code",
   "execution_count": 22,
   "metadata": {},
   "outputs": [],
   "source": [
    "f_star = f(s_star, x_star)\n",
    "Df_star = np.array([f_s(s_star, x_star), f_x(s_star, x_star)])\n",
    "DDf_star = np.array([[f_ss(s_star, x_star), f_sx(s_star, x_star)],\n",
    "                     [f_sx(s_star, x_star), f_xx(s_star, x_star)]])\n",
    "g_star = g(s_star, x_star)\n",
    "Dg_star = np.array([g_s(s_star, x_star), g_x(s_star, x_star)])"
   ]
  },
  {
   "cell_type": "code",
   "execution_count": 23,
   "metadata": {},
   "outputs": [],
   "source": [
    "lq = approx_lq(s_star, x_star, f_star, Df_star, DDf_star, g_star, Dg_star, discount)"
   ]
  },
  {
   "cell_type": "code",
   "execution_count": 24,
   "metadata": {},
   "outputs": [
    {
     "data": {
      "text/plain": [
       "(array([[ -3.12605147e+01,  -1.55238638e-01],\n",
       "        [ -1.55238638e-01,   2.62431197e-03]]),\n",
       " array([[ 3.75555556, -0.9       ]]),\n",
       " 0.0)"
      ]
     },
     "execution_count": 24,
     "metadata": {},
     "output_type": "execute_result"
    }
   ],
   "source": [
    "P, F, d = lq.stationary_values()\n",
    "P, F, d"
   ]
  },
  {
   "cell_type": "code",
   "execution_count": 25,
   "metadata": {},
   "outputs": [],
   "source": [
    "V = lambda s: np.array([1, s]) @ P @ np.array([1, s]) + d"
   ]
  },
  {
   "cell_type": "code",
   "execution_count": 26,
   "metadata": {},
   "outputs": [
    {
     "data": {
      "text/plain": [
       "-33.409643519765581"
      ]
     },
     "execution_count": 26,
     "metadata": {},
     "output_type": "execute_result"
    }
   ],
   "source": [
    "V(s_star)"
   ]
  },
  {
   "cell_type": "code",
   "execution_count": 27,
   "metadata": {},
   "outputs": [
    {
     "data": {
      "text/plain": [
       "-33.409643519765496"
      ]
     },
     "execution_count": 27,
     "metadata": {},
     "output_type": "execute_result"
    }
   ],
   "source": [
    "-f_star / (1 - lq.beta)"
   ]
  },
  {
   "cell_type": "code",
   "execution_count": 28,
   "metadata": {},
   "outputs": [],
   "source": [
    "X = lambda s: -(F @ np.array([1, s]))[0]"
   ]
  },
  {
   "cell_type": "code",
   "execution_count": 29,
   "metadata": {},
   "outputs": [
    {
     "data": {
      "text/plain": [
       "2.8888888888889128"
      ]
     },
     "execution_count": 29,
     "metadata": {},
     "output_type": "execute_result"
    }
   ],
   "source": [
    "X(s_star)"
   ]
  },
  {
   "cell_type": "code",
   "execution_count": 30,
   "metadata": {},
   "outputs": [
    {
     "data": {
      "text/plain": [
       "2.888888888888889"
      ]
     },
     "execution_count": 30,
     "metadata": {},
     "output_type": "execute_result"
    }
   ],
   "source": [
    "x_star"
   ]
  },
  {
   "cell_type": "code",
   "execution_count": 31,
   "metadata": {},
   "outputs": [
    {
     "data": {
      "image/png": "[encoded data removed]",
      "text/plain": [
       "<matplotlib.figure.Figure at 0x1129f3f98>"
      ]
     },
     "metadata": {},
     "output_type": "display_data"
    }
   ],
   "source": [
    "X = np.vectorize(X)\n",
    "s_min, s_max = 6, 9\n",
    "ss = np.linspace(s_min, s_max, 50)\n",
    "harvest = ss - X(ss)\n",
    "h_star = s_star - x_star\n",
    "title = \"Optimal Harvest Policy\"\n",
    "xlabel = \"Available Stock\"\n",
    "ylabel = \"Harvest (% of Stock)\"\n",
    "fig, ax = plt.subplots(figsize=(8,5))\n",
    "ax.plot(ss, harvest/ss, label='L-Q')\n",
    "ax.plot(s_star, h_star/s_star, '*', color='k', markersize=10)\n",
    "ax.set_xlim(s_min, s_max)\n",
    "ax.set_ylim(0.5, 0.75)\n",
    "ax.set_title(title)\n",
    "ax.set_xlabel(xlabel)\n",
    "ax.set_ylabel(ylabel)\n",
    "ax.tick_params(right='on')\n",
    "ax.legend()\n",
    "plt.show()"
   ]
  },
  {
   "cell_type": "code",
   "execution_count": 32,
   "metadata": {},
   "outputs": [
    {
     "data": {
      "image/png": "[encoded data removed]",
      "text/plain": [
       "<matplotlib.figure.Figure at 0x112b0da90>"
      ]
     },
     "metadata": {},
     "output_type": "display_data"
    }
   ],
   "source": [
    "shadow_price = lambda s: -2 * (P @ [1, s])[1]\n",
    "shadow_price = np.vectorize(shadow_price)\n",
    "title = \"Shadow Price Function\"\n",
    "ylabel = \"Price\"\n",
    "fig, ax = plt.subplots(figsize=(8,5))\n",
    "ax.plot(ss, shadow_price(ss), label='L-Q')\n",
    "ax.plot(s_star, shadow_price(s_star), '*', color='k', markersize=10)\n",
    "ax.set_xlim(s_min, s_max)\n",
    "ax.set_ylim(0.2, 0.4)\n",
    "ax.set_title(title)\n",
    "ax.set_xlabel(xlabel)\n",
    "ax.set_ylabel(ylabel)\n",
    "ax.tick_params(right='on')\n",
    "ax.legend()\n",
    "plt.show()"
   ]
  },
  {
   "cell_type": "code",
   "execution_count": null,
   "metadata": {},
   "outputs": [],
   "source": []
  }
 ],
 "metadata": {
  "kernelspec": {
   "display_name": "Python 3",
   "language": "python",
   "name": "python3"
  },
  "language_info": {
   "codemirror_mode": {
    "name": "ipython",
    "version": 3
   },
   "file_extension": ".py",
   "mimetype": "text/x-python",
   "name": "python",
   "nbconvert_exporter": "python",
   "pygments_lexer": "ipython3",
   "version": "3.6.3"
  }
 },
 "nbformat": 4,
 "nbformat_minor": 2
}
